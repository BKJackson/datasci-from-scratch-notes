{
 "cells": [
  {
   "cell_type": "markdown",
   "metadata": {
    "slideshow": {
     "slide_type": "slide"
    }
   },
   "source": [
    "# Ch. 2: A Crash Course in Python\n",
    "Notes on \"Data Science from Scratch\" by Joel Grus"
   ]
  },
  {
   "cell_type": "markdown",
   "metadata": {
    "slideshow": {
     "slide_type": "slide"
    }
   },
   "source": [
    "## The Basics\n",
    "- Getting Python\n",
    "- The Zen of Python\n",
    "- Whitespace Formatting"
   ]
  },
  {
   "cell_type": "markdown",
   "metadata": {
    "slideshow": {
     "slide_type": "subslide"
    }
   },
   "source": [
    "### Getting Python\n",
    "- We recommend installing [Anaconda](https://store.continuum.io/cshop/anaconda/)\n",
    "- Otherwise, you can install the following to get started:\n",
    "    - [Python](https://www.python.org/)\n",
    "    - Python package manager: [pip](https://pypi.python.org/pypi/pip)\n",
    "    - Nicer Python shell: [IPython](http://ipython.org/)\n",
    "    - Web app for interactive data sci: [Jupyter Notebook](http://jupyter.org/)\n",
    "        - <code>pip install jupyter</code> (Python 2)\n",
    "        - <code>pip3 install jupyter</code> (Python 3)\n",
    "    - etc..."
   ]
  },
  {
   "cell_type": "markdown",
   "metadata": {
    "slideshow": {
     "slide_type": "subslide"
    }
   },
   "source": [
    "### The Zen of Python\n",
    "- Python design principles: [The Zen of Python (PEP 20)](https://www.python.org/dev/peps/pep-0020/)\n",
    "- Python code readability: [Style Guide for Python Code (PEP 8)](https://www.python.org/dev/peps/pep-0008/)"
   ]
  },
  {
   "cell_type": "markdown",
   "metadata": {
    "slideshow": {
     "slide_type": "fragment"
    }
   },
   "source": [
    "### Whitespace Formatting\n",
    "In Python, whitespace is important. Other languages, like C++, use curly braces {} to delimit blocks of code.\n",
    "<code> \n",
    "for( int i = 0; i < 5; i++ )\n",
    "   {\n",
    "       cout << i << endl;\n",
    "   }</code>"
   ]
  },
  {
   "cell_type": "code",
   "execution_count": 7,
   "metadata": {
    "collapsed": false,
    "slideshow": {
     "slide_type": "fragment"
    }
   },
   "outputs": [
    {
     "name": "stdout",
     "output_type": "stream",
     "text": [
      "0\n",
      "1\n",
      "2\n",
      "3\n",
      "4\n"
     ]
    }
   ],
   "source": [
    "# Python uses indentation to delimit blocks of code.\n",
    "for i in xrange(5):\n",
    "    print i"
   ]
  },
  {
   "cell_type": "markdown",
   "metadata": {
    "slideshow": {
     "slide_type": "slide"
    }
   },
   "source": [
    "## The Basics\n",
    "- Modules\n",
    "- Arithmetic\n",
    "- Functions\n",
    "- Strings\n",
    "- Exceptions"
   ]
  },
  {
   "cell_type": "markdown",
   "metadata": {
    "slideshow": {
     "slide_type": "subslide"
    }
   },
   "source": [
    "### Modules"
   ]
  },
  {
   "cell_type": "markdown",
   "metadata": {
    "slideshow": {
     "slide_type": "subslide"
    }
   },
   "source": [
    "### Arithmetic\n",
    "- Python 2.7 (like Fortran) uses integer division by default."
   ]
  },
  {
   "cell_type": "code",
   "execution_count": 30,
   "metadata": {
    "collapsed": false,
    "slideshow": {
     "slide_type": "fragment"
    }
   },
   "outputs": [
    {
     "name": "stdout",
     "output_type": "stream",
     "text": [
      "2.5\n"
     ]
    }
   ],
   "source": [
    "print 5 / 2"
   ]
  },
  {
   "cell_type": "markdown",
   "metadata": {
    "slideshow": {
     "slide_type": "fragment"
    }
   },
   "source": [
    "- To force floating point division, specify at least one value in equation as float:"
   ]
  },
  {
   "cell_type": "code",
   "execution_count": 29,
   "metadata": {
    "collapsed": false,
    "slideshow": {
     "slide_type": "fragment"
    }
   },
   "outputs": [
    {
     "name": "stdout",
     "output_type": "stream",
     "text": [
      "<type 'int'> <type 'float'>\n",
      "2.5\n"
     ]
    }
   ],
   "source": [
    "print type(5), type(2.0)\n",
    "print 5 / 2.0"
   ]
  },
  {
   "cell_type": "markdown",
   "metadata": {
    "slideshow": {
     "slide_type": "fragment"
    }
   },
   "source": [
    "- Or, make floating point division default:"
   ]
  },
  {
   "cell_type": "code",
   "execution_count": 32,
   "metadata": {
    "collapsed": false,
    "slideshow": {
     "slide_type": "fragment"
    }
   },
   "outputs": [
    {
     "name": "stdout",
     "output_type": "stream",
     "text": [
      "2.5\n",
      "2\n"
     ]
    }
   ],
   "source": [
    "from __future__ import division\n",
    "print 5 / 2   # now floating point division is default\n",
    "print 5 // 2  # use double slash for integer division"
   ]
  },
  {
   "cell_type": "markdown",
   "metadata": {
    "slideshow": {
     "slide_type": "slide"
    }
   },
   "source": [
    "## The Basics - Data Structures\n",
    "- Lists\n",
    "- Tuples\n",
    "- Dictionaries\n",
    "    - <code>defaultdict</code>\n",
    "    - <code>Counter</code>\n",
    "- Sets\n",
    "- Control Flow\n",
    "- Truthiness"
   ]
  },
  {
   "cell_type": "markdown",
   "metadata": {
    "slideshow": {
     "slide_type": "slide"
    }
   },
   "source": [
    "## The Not-So-Basics\n",
    "- Sorting\n",
    "- List Comprehensions\n",
    "- Generators and Iterators\n",
    "- Randomness\n",
    "- Regular Expressions\n",
    "- Object-Oriented Programming\n",
    "- Functional Tools\n",
    "- <code>enumerate</code>\n",
    "- <code>zip</code> and Argument Unpacking\n",
    "- args and kwargs"
   ]
  },
  {
   "cell_type": "markdown",
   "metadata": {
    "slideshow": {
     "slide_type": "subslide"
    }
   },
   "source": [
    "### Sorting\n",
    "- list `sort` method sorts in place; `sorted` function returns a new list"
   ]
  },
  {
   "cell_type": "code",
   "execution_count": 16,
   "metadata": {
    "collapsed": false,
    "slideshow": {
     "slide_type": "fragment"
    }
   },
   "outputs": [
    {
     "name": "stdout",
     "output_type": "stream",
     "text": [
      "[1, 2, 3, 4]\n",
      "[4, 1, 2, 3]\n",
      "[1, 2, 3, 4]\n"
     ]
    }
   ],
   "source": [
    "x = [4,1,2,3]\n",
    "print sorted(x)\n",
    "print x         # x list is still the same\n",
    "x.sort()        \n",
    "print x         # x list is now changed"
   ]
  },
  {
   "cell_type": "code",
   "execution_count": 24,
   "metadata": {
    "collapsed": false,
    "slideshow": {
     "slide_type": "fragment"
    }
   },
   "outputs": [
    {
     "data": {
      "text/plain": [
       "['__call__',\n",
       " '__class__',\n",
       " '__cmp__',\n",
       " '__delattr__',\n",
       " '__doc__',\n",
       " '__eq__',\n",
       " '__format__',\n",
       " '__ge__',\n",
       " '__getattribute__',\n",
       " '__gt__',\n",
       " '__hash__',\n",
       " '__init__',\n",
       " '__le__',\n",
       " '__lt__',\n",
       " '__module__',\n",
       " '__name__',\n",
       " '__ne__',\n",
       " '__new__',\n",
       " '__reduce__',\n",
       " '__reduce_ex__',\n",
       " '__repr__',\n",
       " '__self__',\n",
       " '__setattr__',\n",
       " '__sizeof__',\n",
       " '__str__',\n",
       " '__subclasshook__']"
      ]
     },
     "execution_count": 24,
     "metadata": {},
     "output_type": "execute_result"
    }
   ],
   "source": [
    "dir(sorted)\n",
    "#dir(x.sort())"
   ]
  },
  {
   "cell_type": "code",
   "execution_count": 19,
   "metadata": {
    "collapsed": false,
    "slideshow": {
     "slide_type": "fragment"
    }
   },
   "outputs": [
    {
     "name": "stdout",
     "output_type": "stream",
     "text": [
      "[4, 3, 2, 1]\n",
      "[4, 3, 2, 1]\n"
     ]
    }
   ],
   "source": [
    "print sorted(x, reverse=True)\n",
    "x.sort(reverse=True)\n",
    "print x"
   ]
  },
  {
   "cell_type": "markdown",
   "metadata": {
    "slideshow": {
     "slide_type": "slide"
    }
   },
   "source": [
    "## For Further Exploration\n",
    "- Python\n",
    "    - [Official Python.org tutorial](https://docs.python.org/2/tutorial) (good)\n",
    "- IPython\n",
    "    - [Official IPython.org tutorial](https://ipython.org/ipython-doc/2/interactive/tutorial.html) (not quite as good)\n",
    "    - [IPython.org videos](https://ipython.org/videos.html) (better)\n",
    "    - [Python for Data Analysis](http://shop.oreilly.com/product/0636920023784.do?cmp=af-prog-books-videos-lp-na_afp_book_mckinney_cj_12307942_7040302) by Wes McKinney (original author of *pandas*)"
   ]
  },
  {
   "cell_type": "code",
   "execution_count": null,
   "metadata": {
    "collapsed": true
   },
   "outputs": [],
   "source": []
  }
 ],
 "metadata": {
  "celltoolbar": "Slideshow",
  "kernelspec": {
   "display_name": "Python 2",
   "language": "python",
   "name": "python2"
  },
  "language_info": {
   "codemirror_mode": {
    "name": "ipython",
    "version": 2
   },
   "file_extension": ".py",
   "mimetype": "text/x-python",
   "name": "python",
   "nbconvert_exporter": "python",
   "pygments_lexer": "ipython2",
   "version": "2.7.11"
  }
 },
 "nbformat": 4,
 "nbformat_minor": 0
}
