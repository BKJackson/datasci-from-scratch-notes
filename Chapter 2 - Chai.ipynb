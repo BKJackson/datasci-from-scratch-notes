{
 "cells": [
  {
   "cell_type": "markdown",
   "metadata": {},
   "source": [
    "# The Basics"
   ]
  },
  {
   "cell_type": "markdown",
   "metadata": {},
   "source": [
    "## Whitespace Formatting"
   ]
  },
  {
   "cell_type": "markdown",
   "metadata": {},
   "source": [
    "Python uses indentations in order to delimit blocks of code. A simple for loop example is as below:"
   ]
  },
  {
   "cell_type": "code",
   "execution_count": 50,
   "metadata": {
    "collapsed": false
   },
   "outputs": [
    {
     "name": "stdout",
     "output_type": "stream",
     "text": [
      "0\n",
      "0\n",
      "0\n",
      "1\n",
      "1\n",
      "2\n",
      "2\n",
      "3\n",
      "3\n",
      "4\n",
      "4\n",
      "1\n",
      "1\n",
      "0\n",
      "2\n",
      "1\n",
      "3\n",
      "2\n",
      "4\n",
      "3\n",
      "5\n",
      "4\n",
      "2\n",
      "2\n",
      "0\n",
      "3\n",
      "1\n",
      "4\n",
      "2\n",
      "5\n",
      "3\n",
      "6\n",
      "4\n",
      "3\n",
      "3\n",
      "0\n",
      "4\n",
      "1\n",
      "5\n",
      "2\n",
      "6\n",
      "3\n",
      "7\n",
      "4\n",
      "4\n",
      "4\n",
      "0\n",
      "5\n",
      "1\n",
      "6\n",
      "2\n",
      "7\n",
      "3\n",
      "8\n",
      "4\n",
      "looping done\n"
     ]
    }
   ],
   "source": [
    "for i in range(5):\n",
    "    print i\n",
    "    for j in range(5): #for loop within the outer for loop - recognized by the indentation\n",
    "        print (i + j)\n",
    "        print j\n",
    "print 'looping done' #print once loop is completed -- no indentation here as the command prints once both the for loops are completed        "
   ]
  },
  {
   "cell_type": "markdown",
   "metadata": {},
   "source": [
    "## Modules"
   ]
  },
  {
   "cell_type": "markdown",
   "metadata": {},
   "source": [
    "Modules are libraries contaiing functions and constants. In order to be able to use these functions or constants, you need to import the respective modules before using them. "
   ]
  },
  {
   "cell_type": "code",
   "execution_count": 51,
   "metadata": {
    "collapsed": false
   },
   "outputs": [
    {
     "name": "stdout",
     "output_type": "stream",
     "text": [
      "<_sre.SRE_Pattern object at 0x103c12e00>\n"
     ]
    }
   ],
   "source": [
    "import re\n",
    "my_regex = re.compile('[0-9]', re.I)\n",
    "print my_regex"
   ]
  },
  {
   "cell_type": "markdown",
   "metadata": {},
   "source": [
    "You can also use an alias while import a module and then, you can call functions and constants of the module using the alias name. "
   ]
  },
  {
   "cell_type": "code",
   "execution_count": 52,
   "metadata": {
    "collapsed": false
   },
   "outputs": [
    {
     "name": "stdout",
     "output_type": "stream",
     "text": [
      "<_sre.SRE_Pattern object at 0x103c12e00>\n"
     ]
    }
   ],
   "source": [
    "import re as regex\n",
    "my_regex = regex.compile('[0-9]', regex.I)\n",
    "print my_regex"
   ]
  },
  {
   "cell_type": "markdown",
   "metadata": {},
   "source": [
    "In order to import specific values from a module, you can import them explicitly to be able to use them without any qualification (dot notation in Python)"
   ]
  },
  {
   "cell_type": "code",
   "execution_count": 53,
   "metadata": {
    "collapsed": true
   },
   "outputs": [],
   "source": [
    "from collections import defaultdict, Counter\n",
    "lookup = defaultdict(int)\n",
    "my_counter = Counter()"
   ]
  },
  {
   "cell_type": "markdown",
   "metadata": {},
   "source": [
    "Be wary of importing whole module to make sure that the module does not contain any constant / function name same as that of any of your variables"
   ]
  },
  {
   "cell_type": "code",
   "execution_count": 54,
   "metadata": {
    "collapsed": false
   },
   "outputs": [
    {
     "name": "stdout",
     "output_type": "stream",
     "text": [
      "<function match at 0x1021a2d70>\n"
     ]
    }
   ],
   "source": [
    "match = 10 #your variable\n",
    "from re import * #you imported everything including match() function from re module\n",
    "print match #will not print 10 anymore"
   ]
  },
  {
   "cell_type": "markdown",
   "metadata": {},
   "source": [
    "## Arithmetic"
   ]
  },
  {
   "cell_type": "markdown",
   "metadata": {},
   "source": [
    "By default, Python division provides integer output."
   ]
  },
  {
   "cell_type": "code",
   "execution_count": 55,
   "metadata": {
    "collapsed": false
   },
   "outputs": [
    {
     "name": "stdout",
     "output_type": "stream",
     "text": [
      "2.5\n"
     ]
    }
   ],
   "source": [
    "print (5 / 2) #prints 2 instead of 2.5"
   ]
  },
  {
   "cell_type": "markdown",
   "metadata": {},
   "source": [
    "Hence, we would import division from __future__ module in order to override this property"
   ]
  },
  {
   "cell_type": "code",
   "execution_count": 56,
   "metadata": {
    "collapsed": false
   },
   "outputs": [
    {
     "name": "stdout",
     "output_type": "stream",
     "text": [
      "2.5\n"
     ]
    }
   ],
   "source": [
    "from __future__ import division\n",
    "print (5 / 2)"
   ]
  },
  {
   "cell_type": "markdown",
   "metadata": {},
   "source": [
    "## Functions"
   ]
  },
  {
   "cell_type": "markdown",
   "metadata": {},
   "source": [
    "Function refers to user-defined methods that would take zero or more inputs, do some computations and returns an output"
   ]
  },
  {
   "cell_type": "code",
   "execution_count": 57,
   "metadata": {
    "collapsed": true
   },
   "outputs": [],
   "source": [
    "def double(x):\n",
    "    \"\"\"You can provide a brief description of your method and explain types of input used and outputs returned by \n",
    "    the function\n",
    "    \n",
    "    returns value twice as x\n",
    "    \n",
    "    x: integer / float value\n",
    "    \"\"\"\n",
    "    return x * 2"
   ]
  },
  {
   "cell_type": "markdown",
   "metadata": {},
   "source": [
    "Python functions are first class -- you can assign them to a variable and pass them into functions like arguments"
   ]
  },
  {
   "cell_type": "code",
   "execution_count": 58,
   "metadata": {
    "collapsed": false
   },
   "outputs": [
    {
     "name": "stdout",
     "output_type": "stream",
     "text": [
      "4\n"
     ]
    }
   ],
   "source": [
    "result = double(2)\n",
    "print result"
   ]
  },
  {
   "cell_type": "code",
   "execution_count": 59,
   "metadata": {
    "collapsed": false
   },
   "outputs": [
    {
     "name": "stdout",
     "output_type": "stream",
     "text": [
      "2\n"
     ]
    }
   ],
   "source": [
    "def apply_to_one(function_name):\n",
    "    \"\"\"\n",
    "    calls provided function and passes argument value of 1\n",
    "    function_name: function\n",
    "    \"\"\"\n",
    "    return function_name(1)\n",
    "\n",
    "print apply_to_one(double)"
   ]
  },
  {
   "cell_type": "code",
   "execution_count": 60,
   "metadata": {
    "collapsed": false
   },
   "outputs": [
    {
     "name": "stdout",
     "output_type": "stream",
     "text": [
      "2\n"
     ]
    }
   ],
   "source": [
    "my_double = double #assign function to a variable\n",
    "print apply_to_one(my_double) #pass function double() as argument to another function"
   ]
  },
  {
   "cell_type": "markdown",
   "metadata": {},
   "source": [
    "You can also pass anonymous functions as argument to another function"
   ]
  },
  {
   "cell_type": "code",
   "execution_count": 61,
   "metadata": {
    "collapsed": false
   },
   "outputs": [
    {
     "name": "stdout",
     "output_type": "stream",
     "text": [
      "5\n"
     ]
    }
   ],
   "source": [
    "y = apply_to_one(lambda x : x + 4)\n",
    "print y"
   ]
  },
  {
   "cell_type": "markdown",
   "metadata": {},
   "source": [
    "You can also set default values for any / all of your function arguments"
   ]
  },
  {
   "cell_type": "code",
   "execution_count": 62,
   "metadata": {
    "collapsed": false
   },
   "outputs": [
    {
     "name": "stdout",
     "output_type": "stream",
     "text": [
      "hello\n",
      "my default message\n"
     ]
    }
   ],
   "source": [
    "def my_print(message='my default message'):\n",
    "    print message\n",
    "    \n",
    "my_print('hello')\n",
    "my_print()"
   ]
  },
  {
   "cell_type": "markdown",
   "metadata": {},
   "source": [
    "You can also specify argument names when calling a function"
   ]
  },
  {
   "cell_type": "code",
   "execution_count": 63,
   "metadata": {
    "collapsed": false
   },
   "outputs": [
    {
     "name": "stdout",
     "output_type": "stream",
     "text": [
      "5\n",
      "-5\n",
      "-5\n"
     ]
    }
   ],
   "source": [
    "def subtract(a = 0, b = 0):\n",
    "    return a - b\n",
    "\n",
    "print subtract(10, 5)\n",
    "print subtract(0, 5)\n",
    "print subtract(b = 5) #same as previous"
   ]
  },
  {
   "cell_type": "markdown",
   "metadata": {},
   "source": [
    "## Strings"
   ]
  },
  {
   "cell_type": "markdown",
   "metadata": {},
   "source": [
    "Strings can be delimited using either single quotes or double quotes only. "
   ]
  },
  {
   "cell_type": "code",
   "execution_count": 64,
   "metadata": {
    "collapsed": true
   },
   "outputs": [],
   "source": [
    "single_quote_string = 'data science'\n",
    "double_quote_String = \"data science\""
   ]
  },
  {
   "cell_type": "markdown",
   "metadata": {},
   "source": [
    "Python uses backlashes in order to encode special characters"
   ]
  },
  {
   "cell_type": "code",
   "execution_count": 65,
   "metadata": {
    "collapsed": false
   },
   "outputs": [
    {
     "data": {
      "text/plain": [
       "1"
      ]
     },
     "execution_count": 65,
     "metadata": {},
     "output_type": "execute_result"
    }
   ],
   "source": [
    "newline = '\\n'\n",
    "len(newline)"
   ]
  },
  {
   "cell_type": "markdown",
   "metadata": {},
   "source": [
    "If you want to maintain backslashes from indicating special chacaters, use the raw strings format in Python"
   ]
  },
  {
   "cell_type": "code",
   "execution_count": 66,
   "metadata": {
    "collapsed": false
   },
   "outputs": [
    {
     "data": {
      "text/plain": [
       "2"
      ]
     },
     "execution_count": 66,
     "metadata": {},
     "output_type": "execute_result"
    }
   ],
   "source": [
    "not_newline = r'\\n'\n",
    "len(not_newline)"
   ]
  },
  {
   "cell_type": "markdown",
   "metadata": {},
   "source": [
    "You can create multi-line strings using triple double quotes "
   ]
  },
  {
   "cell_type": "code",
   "execution_count": 67,
   "metadata": {
    "collapsed": false
   },
   "outputs": [
    {
     "name": "stdout",
     "output_type": "stream",
     "text": [
      "This is the first line. \n",
      "And this is the second line. \n",
      "And this is the third line.\n"
     ]
    }
   ],
   "source": [
    "multiline_string = \"\"\"This is the first line. \n",
    "And this is the second line. \n",
    "And this is the third line.\"\"\"\n",
    "print multiline_string"
   ]
  },
  {
   "cell_type": "markdown",
   "metadata": {},
   "source": [
    "## Exceptions"
   ]
  },
  {
   "cell_type": "markdown",
   "metadata": {},
   "source": [
    "Python raises exception if something goes wrong in the program. You can handle exceptions in your program using try and except commands in order to keep your pgram from crashing. "
   ]
  },
  {
   "cell_type": "code",
   "execution_count": 68,
   "metadata": {
    "collapsed": false
   },
   "outputs": [
    {
     "name": "stdout",
     "output_type": "stream",
     "text": [
      "division by 0\n"
     ]
    }
   ],
   "source": [
    "try: \n",
    "    print 0/0\n",
    "except ZeroDivisionError: \n",
    "    print 'division by 0'"
   ]
  },
  {
   "cell_type": "markdown",
   "metadata": {
    "collapsed": true
   },
   "source": [
    "## Lists"
   ]
  },
  {
   "cell_type": "markdown",
   "metadata": {},
   "source": [
    "List is a ordered collection of same or different types of Python objects"
   ]
  },
  {
   "cell_type": "code",
   "execution_count": 69,
   "metadata": {
    "collapsed": false
   },
   "outputs": [
    {
     "name": "stdout",
     "output_type": "stream",
     "text": [
      "3\n",
      "6\n"
     ]
    }
   ],
   "source": [
    "int_list = [1, 2, 3]\n",
    "heterogenous_list = [1, 'string', 3.4]\n",
    "list_of_lists = [int_list, heterogenous_list, []]\n",
    "\n",
    "print (len(int_list))\n",
    "print (sum(int_list))"
   ]
  },
  {
   "cell_type": "markdown",
   "metadata": {},
   "source": [
    "Python is zero-indexed language. So, you can directly extract nth element of the list by indexing the list. However, keep in mind that the 1st element of the list is indexed as 0, second element of the list is indexed as 1 and so on. You can get and set nth element of the list as follows:"
   ]
  },
  {
   "cell_type": "code",
   "execution_count": 70,
   "metadata": {
    "collapsed": false
   },
   "outputs": [
    {
     "name": "stdout",
     "output_type": "stream",
     "text": [
      "0\n",
      "1\n",
      "9\n",
      "8\n",
      "Before: 2\n",
      "After: two\n"
     ]
    }
   ],
   "source": [
    "x = range(10)\n",
    "zero = x[0]\n",
    "one = x[1]\n",
    "nine = x[-1] #last element of the list\n",
    "eight = x[-2] #second to last element in the list\n",
    "print(zero)\n",
    "print(one)\n",
    "print(nine)\n",
    "print(eight)\n",
    "\n",
    "print 'Before:', x[2]\n",
    "x[2] = 'two'\n",
    "print 'After:', x[2]\n"
   ]
  },
  {
   "cell_type": "markdown",
   "metadata": {},
   "source": [
    "You can also slice Python lists as follows:"
   ]
  },
  {
   "cell_type": "code",
   "execution_count": 71,
   "metadata": {
    "collapsed": false
   },
   "outputs": [
    {
     "name": "stdout",
     "output_type": "stream",
     "text": [
      "[0, 1, 'two']\n",
      "[3, 4, 5, 6, 7, 8, 9]\n",
      "[1, 'two', 3, 4]\n",
      "[1, 'two', 3, 4, 5, 6, 7, 8]\n",
      "[0, 1, 'two', 3, 4, 5, 6, 7, 8, 9]\n"
     ]
    }
   ],
   "source": [
    "first_three_elements = x[:3] #gives x[0], x[1] and x[2]. All indexes EXCLUDING the last index(3 in our case)\n",
    "elements_after_third = x[3:] #gives all elements starting at index 3 (element at index 3 is included in the output)\n",
    "one_to_four = x[1:5] #gives elements starting at index 1 through 4\n",
    "without_first_and_last = x[1:-1] #gives elements starting at index 1 until the second to last element. Last element is excluded\n",
    "copy_of_x = x[:]\n",
    "\n",
    "print first_three_elements\n",
    "print elements_after_third\n",
    "print one_to_four\n",
    "print without_first_and_last\n",
    "print copy_of_x"
   ]
  },
  {
   "cell_type": "markdown",
   "metadata": {},
   "source": [
    "You can check list membership using 'in' operator. This operation would go through every element in the list until a match is found"
   ]
  },
  {
   "cell_type": "code",
   "execution_count": 72,
   "metadata": {
    "collapsed": false
   },
   "outputs": [
    {
     "name": "stdout",
     "output_type": "stream",
     "text": [
      "True\n",
      "False\n"
     ]
    }
   ],
   "source": [
    "print 0 in x\n",
    "print 12 in x"
   ]
  },
  {
   "cell_type": "markdown",
   "metadata": {},
   "source": [
    "You can concatenate lists in two ways: One that would change the original list and the other would leave the original list unchanged"
   ]
  },
  {
   "cell_type": "code",
   "execution_count": 73,
   "metadata": {
    "collapsed": false
   },
   "outputs": [
    {
     "name": "stdout",
     "output_type": "stream",
     "text": [
      "x: [1, 2, 3, 4, 5, 6]\n",
      "x: [1, 2, 3]\n",
      "y: [1, 2, 3, 4, 5, 6]\n"
     ]
    }
   ],
   "source": [
    "x = [1, 2, 3]\n",
    "x.extend([4, 5, 6]) #x is now changed\n",
    "print 'x:', x\n",
    "\n",
    "x = [1, 2, 3]\n",
    "y = x + [4, 5, 6] #x is unchanged\n",
    "print 'x:', x\n",
    "print 'y:', y"
   ]
  },
  {
   "cell_type": "markdown",
   "metadata": {},
   "source": [
    "You can add element(s) to the end of list by using 'append' command"
   ]
  },
  {
   "cell_type": "code",
   "execution_count": 74,
   "metadata": {
    "collapsed": false
   },
   "outputs": [
    {
     "name": "stdout",
     "output_type": "stream",
     "text": [
      "[1, 2, 3, 4]\n"
     ]
    }
   ],
   "source": [
    "x = [1, 2, 3]\n",
    "x.append(4)\n",
    "print x"
   ]
  },
  {
   "cell_type": "markdown",
   "metadata": {},
   "source": [
    "## Tuples"
   ]
  },
  {
   "cell_type": "markdown",
   "metadata": {},
   "source": [
    "Tuples are similar to list. The difference is that tuples are immutable. "
   ]
  },
  {
   "cell_type": "code",
   "execution_count": 75,
   "metadata": {
    "collapsed": false
   },
   "outputs": [
    {
     "name": "stdout",
     "output_type": "stream",
     "text": [
      "[1, 3]\n",
      "Cannot modify a tuple\n"
     ]
    }
   ],
   "source": [
    "my_list = [1, 2]\n",
    "my_tuple = (1, 2)\n",
    "\n",
    "my_list[1] = 3 #this would modify my_list and is legal\n",
    "print my_list\n",
    "\n",
    "try: \n",
    "    my_tuple[1] = 3\n",
    "except TypeError:\n",
    "    print 'Cannot modify a tuple'"
   ]
  },
  {
   "cell_type": "markdown",
   "metadata": {},
   "source": [
    "Tuples are convenient way to return multiple values from functions and they can also be used in multiple assignments"
   ]
  },
  {
   "cell_type": "code",
   "execution_count": 76,
   "metadata": {
    "collapsed": false
   },
   "outputs": [
    {
     "name": "stdout",
     "output_type": "stream",
     "text": [
      "(5, 6)\n",
      "15\n",
      "50\n"
     ]
    }
   ],
   "source": [
    "def sum_and_product(x, y):\n",
    "    return (x + y), (x * y)\n",
    "sp = sum_and_product(2, 3)\n",
    "print sp\n",
    "s, p = sum_and_product(5, 10)\n",
    "print s\n",
    "print p"
   ]
  },
  {
   "cell_type": "markdown",
   "metadata": {},
   "source": [
    "## Dictionaries"
   ]
  },
  {
   "cell_type": "markdown",
   "metadata": {},
   "source": [
    "Dictionaries are a collection of key-value pairs"
   ]
  },
  {
   "cell_type": "code",
   "execution_count": 77,
   "metadata": {
    "collapsed": false
   },
   "outputs": [
    {
     "name": "stdout",
     "output_type": "stream",
     "text": [
      "{}\n",
      "{'Tim': 90, 'Joel': 80}\n"
     ]
    }
   ],
   "source": [
    "empty_dict = {}\n",
    "grades = {'Joel': 80, 'Tim': 90}\n",
    "print empty_dict\n",
    "print grades"
   ]
  },
  {
   "cell_type": "markdown",
   "metadata": {},
   "source": [
    "You look up values for a key using square brackets. This also means that Python will throw an error in case the key you are looking for does not exist in the dictionary. \n",
    "\n",
    "Dictionaries also have a get() methond that returns default value instead of exception in case you look up a key that is not in the dictionary"
   ]
  },
  {
   "cell_type": "code",
   "execution_count": 78,
   "metadata": {
    "collapsed": false
   },
   "outputs": [
    {
     "name": "stdout",
     "output_type": "stream",
     "text": [
      "80\n",
      "no grade for Larry\n",
      "80\n",
      "0\n",
      "None\n"
     ]
    }
   ],
   "source": [
    "print grades['Joel']\n",
    "\n",
    "try: \n",
    "    print grades['Larry']\n",
    "except KeyError:\n",
    "    print 'no grade for Larry'\n",
    "    \n",
    "print grades.get('Joel', 0) #returns 80 since we have grades for Joel in grades dictionary\n",
    "print grades.get('Kate', 0) #returns 0 since we do not have grades for Kate in grade dictionary\n",
    "print grades.get('No One') #returns None as default value has not been set up and we do nohave 'No one' in grades dictionary"
   ]
  },
  {
   "cell_type": "markdown",
   "metadata": {},
   "source": [
    "Similaryly, you can set (modify / add new) values in dictionary using square brackets as follows:"
   ]
  },
  {
   "cell_type": "code",
   "execution_count": 79,
   "metadata": {
    "collapsed": false
   },
   "outputs": [
    {
     "name": "stdout",
     "output_type": "stream",
     "text": [
      "{'Tim': 90, 'Joel': 80, 'Larry': 100}\n",
      "Joel's grade before change: 80\n",
      "Joel's grade after change: 70\n"
     ]
    }
   ],
   "source": [
    "grades['Larry'] = 100 #dictionary is now changed since we added a new key-value pair\n",
    "print grades\n",
    "\n",
    "print \"Joel's grade before change:\", grades['Joel']\n",
    "grades['Joel'] = 70 #Joel's grades are now changed\n",
    "print \"Joel's grade after change:\", grades['Joel']"
   ]
  },
  {
   "cell_type": "markdown",
   "metadata": {},
   "source": [
    "We can look at all the keys, values or (key, value) pairs of dictionary as follows:"
   ]
  },
  {
   "cell_type": "code",
   "execution_count": 80,
   "metadata": {
    "collapsed": false
   },
   "outputs": [
    {
     "name": "stdout",
     "output_type": "stream",
     "text": [
      "['Tim', 'Joel', 'Larry']\n",
      "[90, 70, 100]\n",
      "[('Tim', 90), ('Joel', 70), ('Larry', 100)]\n"
     ]
    }
   ],
   "source": [
    "print grades.keys() #prints names of students\n",
    "print grades.values() #prints grades\n",
    "print grades.items() #prints name:grade pair as tuples of a list"
   ]
  },
  {
   "cell_type": "markdown",
   "metadata": {},
   "source": [
    "Keys of dictionaries can be string or numbers or tuples or a combination of those. You cannot use list as a key of dictionary as lists are mutable. "
   ]
  },
  {
   "cell_type": "markdown",
   "metadata": {
    "collapsed": false
   },
   "source": [
    "#### defaultdict"
   ]
  },
  {
   "cell_type": "markdown",
   "metadata": {
    "collapsed": true
   },
   "source": [
    "defaultdict is like regular dictionary, except that when you try to lookup a key that is not present in the dictionary, it first adds a value for it using zero argument function that you provide when creating it. In order to use defaultdict, you have to import them from collection module. \n",
    "\n",
    "In the following examples; we use three different approaches in order to understand ways in which we may want to create a dictionary of word count. This dictionary consists of words as the key and corresponding wordcount as the key's value."
   ]
  },
  {
   "cell_type": "code",
   "execution_count": 81,
   "metadata": {
    "collapsed": false
   },
   "outputs": [
    {
     "name": "stdout",
     "output_type": "stream",
     "text": [
      "{'a': 1, 'this': 2, 'text': 2, 'is': 2, ',': 1, 'to': 1, 'way': 1, 'input': 1, 'my': 1, 'nice': 1}\n"
     ]
    }
   ],
   "source": [
    "document = ['this', 'is', 'my', 'text', ',', 'this', 'is', 'a', 'nice', 'way', 'to', 'input', 'text']\n",
    "word_counts = {}\n",
    "for word in document:\n",
    "    if word in word_counts:\n",
    "        word_counts[word] += 1\n",
    "    else:\n",
    "        word_counts[word] = 1\n",
    "print word_counts"
   ]
  },
  {
   "cell_type": "code",
   "execution_count": 82,
   "metadata": {
    "collapsed": false
   },
   "outputs": [
    {
     "name": "stdout",
     "output_type": "stream",
     "text": [
      "{'a': 1, 'this': 2, 'text': 2, 'is': 2, ',': 1, 'to': 1, 'way': 1, 'input': 1, 'my': 1, 'nice': 1}\n"
     ]
    }
   ],
   "source": [
    "word_counts = {}\n",
    "for word in document:\n",
    "    try:\n",
    "        word_counts[word] += 1\n",
    "    except KeyError:\n",
    "        word_counts[word] = 1\n",
    "print word_counts"
   ]
  },
  {
   "cell_type": "code",
   "execution_count": 83,
   "metadata": {
    "collapsed": false
   },
   "outputs": [
    {
     "name": "stdout",
     "output_type": "stream",
     "text": [
      "{'a': 1, 'this': 2, 'text': 2, 'is': 2, ',': 1, 'to': 1, 'way': 1, 'input': 1, 'my': 1, 'nice': 1}\n"
     ]
    }
   ],
   "source": [
    "word_counts = {}\n",
    "for word in document:\n",
    "    previous_count = word_counts.get(word, 0)\n",
    "    word_counts[word] = previous_count + 1\n",
    "print word_counts"
   ]
  },
  {
   "cell_type": "code",
   "execution_count": 84,
   "metadata": {
    "collapsed": false
   },
   "outputs": [
    {
     "name": "stdout",
     "output_type": "stream",
     "text": [
      "defaultdict(<type 'int'>, {'a': 1, 'this': 2, 'text': 2, 'is': 2, ',': 1, 'to': 1, 'way': 1, 'input': 1, 'my': 1, 'nice': 1})\n"
     ]
    }
   ],
   "source": [
    "from collections import defaultdict\n",
    "\n",
    "word_counts = defaultdict(int)\n",
    "for word in document:\n",
    "    word_counts[word] += 1 \n",
    "print word_counts"
   ]
  },
  {
   "cell_type": "markdown",
   "metadata": {},
   "source": [
    "#### Counter"
   ]
  },
  {
   "cell_type": "markdown",
   "metadata": {},
   "source": [
    "Instead of using any of the method mentioned above in order to compute the word-counts, we could have rather used a simpler built-in counter offered by Python. Counter turns a sequence of values into defaultdict(int) like objects mapping keys to its corresponding counts. This gives a very simple way to solve our word-count problem. \n",
    "\n",
    "Counter also has a function called most_common() method to find most common keys and their counts. "
   ]
  },
  {
   "cell_type": "code",
   "execution_count": 85,
   "metadata": {
    "collapsed": false
   },
   "outputs": [
    {
     "name": "stdout",
     "output_type": "stream",
     "text": [
      "Counter({'this': 2, 'text': 2, 'is': 2, 'a': 1, ',': 1, 'to': 1, 'way': 1, 'input': 1, 'my': 1, 'nice': 1})\n",
      "this 2\n",
      "text 2\n"
     ]
    }
   ],
   "source": [
    "from collections import Counter\n",
    "word_counts = Counter(document)\n",
    "print word_counts\n",
    "\n",
    "#find 2 most common words in document\n",
    "for word, count in word_counts.most_common(2):\n",
    "    print word, count"
   ]
  },
  {
   "cell_type": "markdown",
   "metadata": {},
   "source": [
    "### Sets "
   ]
  },
  {
   "cell_type": "markdown",
   "metadata": {},
   "source": [
    "Sets represents a collection of distinct elements. We use sets for two reasons: it is much faster to find an element in set vs finding an element in a list and next is to find unique elements in our collection"
   ]
  },
  {
   "cell_type": "code",
   "execution_count": 86,
   "metadata": {
    "collapsed": false
   },
   "outputs": [
    {
     "name": "stdout",
     "output_type": "stream",
     "text": [
      "set: set([1, 2])\n",
      "length of set: 2\n",
      "2 in s? True\n",
      "3 in s? False\n"
     ]
    }
   ],
   "source": [
    "s = set() #initialize an empty set\n",
    "s.add(1) #add first element to our set. Now, our set is set([1])\n",
    "s.add(2) #add second element to our set. Now, our set is set([1, 2])\n",
    "s.add(1) #this won't change the set and we already have 1 in our set. So, set remains set([1, 2])\n",
    "print 'set:', s\n",
    "\n",
    "x = len(s) #get length of the set\n",
    "print 'length of set:', x\n",
    "\n",
    "y = 2 in s #check if 2 is in the set\n",
    "print '2 in s?', y\n",
    "\n",
    "z = 3 in s #check if 3 is in the set\n",
    "print '3 in s?', z"
   ]
  },
  {
   "cell_type": "code",
   "execution_count": 87,
   "metadata": {
    "collapsed": false
   },
   "outputs": [
    {
     "name": "stdout",
     "output_type": "stream",
     "text": [
      "False\n",
      "False\n"
     ]
    }
   ],
   "source": [
    "import string\n",
    "char_list = list(string.ascii_lowercase) * 2\n",
    "print 'an' in char_list #'an' is not in the list but has to search by going through every element of the list\n",
    "char_set = set(char_list) #removes dups and creates a set \n",
    "print 'an' in char_set #still false but much faster than list-searching"
   ]
  },
  {
   "cell_type": "markdown",
   "metadata": {},
   "source": [
    "### Control Flow"
   ]
  },
  {
   "cell_type": "markdown",
   "metadata": {},
   "source": [
    "#### Conditional looping: if-else statements"
   ]
  },
  {
   "cell_type": "code",
   "execution_count": 88,
   "metadata": {
    "collapsed": false
   },
   "outputs": [
    {
     "name": "stdout",
     "output_type": "stream",
     "text": [
      "Negative changed to zero\n"
     ]
    }
   ],
   "source": [
    "x = - 4\n",
    "\n",
    "if x < 0:\n",
    "    x = 0\n",
    "    print 'Negative changed to zero'\n",
    "elif x == 0:\n",
    "     print 'Zero'\n",
    "elif x == 1:\n",
    "     print 'Single'\n",
    "else:\n",
    "    print 'More'"
   ]
  },
  {
   "cell_type": "markdown",
   "metadata": {},
   "source": [
    "#### While loops"
   ]
  },
  {
   "cell_type": "markdown",
   "metadata": {},
   "source": [
    "A while loop statement in Python programming language repeatedly executes a target statement as long as a given condition is true."
   ]
  },
  {
   "cell_type": "code",
   "execution_count": 89,
   "metadata": {
    "collapsed": false
   },
   "outputs": [
    {
     "name": "stdout",
     "output_type": "stream",
     "text": [
      "The count is: 0\n",
      "The count is: 1\n",
      "The count is: 2\n",
      "The count is: 3\n",
      "The count is: 4\n",
      "The count is: 5\n",
      "The count is: 6\n",
      "The count is: 7\n",
      "The count is: 8\n",
      "Good bye!\n"
     ]
    }
   ],
   "source": [
    "count = 0\n",
    "while (count < 9):\n",
    "   print 'The count is:', count\n",
    "   count = count + 1\n",
    "\n",
    "print \"Good bye!\"\n",
    "\n",
    "\n",
    "#infinite loop\n",
    "# count = 0\n",
    "# while (count < 9):\n",
    "#    print 'The count is:', count\n",
    "\n",
    "# print \"Good bye!\""
   ]
  },
  {
   "cell_type": "markdown",
   "metadata": {},
   "source": [
    "#### For loops"
   ]
  },
  {
   "cell_type": "markdown",
   "metadata": {},
   "source": [
    "For loops iterate over the items of any sequence, such as a list or a string."
   ]
  },
  {
   "cell_type": "code",
   "execution_count": 90,
   "metadata": {
    "collapsed": false
   },
   "outputs": [
    {
     "name": "stdout",
     "output_type": "stream",
     "text": [
      "dogs 4\n",
      "cats 4\n",
      "elephant 8\n",
      "tiger 5\n",
      "lion 4\n"
     ]
    }
   ],
   "source": [
    "animal_kingdom = ['dogs', 'cats', 'elephant', 'tiger', 'lion']\n",
    "\n",
    "for animal in animal_kingdom:\n",
    "    print animal, len(animal)"
   ]
  },
  {
   "cell_type": "markdown",
   "metadata": {},
   "source": [
    "### Truthiness"
   ]
  },
  {
   "cell_type": "markdown",
   "metadata": {},
   "source": [
    "Booleans work in Python as in most other languages, except that they are capitalized\n",
    "\n",
    "Python uses value 'None' to indicate a non-existent value. It is similar to 'null' in other languages. \n",
    "\n",
    "Python lets you use any value where it expects a boolean. "
   ]
  },
  {
   "cell_type": "code",
   "execution_count": 91,
   "metadata": {
    "collapsed": false
   },
   "outputs": [
    {
     "name": "stdout",
     "output_type": "stream",
     "text": [
      "one_is_less_than_two: True\n",
      "true_equals_false: False\n",
      "x_equals_none: True\n",
      "x is none? True\n"
     ]
    }
   ],
   "source": [
    "one_is_less_than_two = 1 < 2\n",
    "print 'one_is_less_than_two:', one_is_less_than_two\n",
    "true_equals_false = True == False\n",
    "print 'true_equals_false:', true_equals_false\n",
    "x = None\n",
    "print 'x_equals_none:', x == None #non pythonic way\n",
    "print 'x is none?', x is None #pythonic way\n",
    "\n",
    "#following values are all false (or falsy) in Python. Everything else is True (or Truthy) in Python\n",
    "#False\n",
    "#None\n",
    "#[] - an empty list\n",
    "# {} - an empty dict\n",
    "#\"\"\n",
    "#set()\n",
    "#0\n",
    "#0.0"
   ]
  },
  {
   "cell_type": "markdown",
   "metadata": {},
   "source": [
    "Python also has 'all' and 'any' functions that take a list and return True precisly when 'all' or 'any' elements of the list are truthy respectively. "
   ]
  },
  {
   "cell_type": "code",
   "execution_count": 92,
   "metadata": {
    "collapsed": false
   },
   "outputs": [
    {
     "name": "stdout",
     "output_type": "stream",
     "text": [
      "True\n",
      "False\n",
      "True\n",
      "True\n",
      "False\n"
     ]
    }
   ],
   "source": [
    "print all([True, 1, {3}])\n",
    "print all([True, \"\", {3}])\n",
    "print any([False, 1, [2]])\n",
    "print all([])\n",
    "print any([])"
   ]
  },
  {
   "cell_type": "markdown",
   "metadata": {},
   "source": [
    "## Not-so-basics"
   ]
  },
  {
   "cell_type": "markdown",
   "metadata": {},
   "source": [
    "### Sorting"
   ]
  },
  {
   "cell_type": "markdown",
   "metadata": {},
   "source": [
    "You can sort a list using two functions:\n",
    "- sort(): this sorts list in place\n",
    "- sorted(): this creates a new sorted list and so, the original list remains unchanged\n",
    "\n",
    "Usually, the elements are sorted by values in ascending order. However, you can change this default behaviour by setting argument 'reverse' = True in the sorting function. \n",
    "\n",
    "Also, you can specify key by which you would like your collection to be sorted. "
   ]
  },
  {
   "cell_type": "code",
   "execution_count": 93,
   "metadata": {
    "collapsed": false
   },
   "outputs": [
    {
     "name": "stdout",
     "output_type": "stream",
     "text": [
      "original x: [4, 1, 2, 3]\n",
      "sorted x: [1, 2, 3, 4]\n",
      "sorted x: [1, 2, 3, 4]\n",
      "x sorted by absolute values: [-4, 3, -2, 1]\n"
     ]
    }
   ],
   "source": [
    "x = [4,1, 2, 3]\n",
    "y = sorted(x)\n",
    "print 'original x:', x\n",
    "print 'sorted x:', y\n",
    "x.sort()\n",
    "print 'sorted x:', x\n",
    "\n",
    "#sort a list by abs value in descending order\n",
    "x = sorted([-4, 1, -2, 3], key = abs, reverse = True)\n",
    "print 'x sorted by absolute values:', x"
   ]
  },
  {
   "cell_type": "markdown",
   "metadata": {},
   "source": [
    "### List Comprehension"
   ]
  },
  {
   "cell_type": "markdown",
   "metadata": {},
   "source": [
    "List Comprehensions is a very powerful tool, which creates a new list based on another list, in a single, readable line.\n",
    "\n",
    "You can also tyrn lists into dictionaries or sets using list comprehensions. \n",
    "\n",
    "We can also use multiple for loops in list comprehension. "
   ]
  },
  {
   "cell_type": "code",
   "execution_count": 94,
   "metadata": {
    "collapsed": false
   },
   "outputs": [
    {
     "name": "stdout",
     "output_type": "stream",
     "text": [
      "list of even numbers below 5: [0, 2, 4]\n",
      "list of squares of numbers less than 5: [0, 1, 4, 9, 16]\n",
      "list of squares of even numbers less than 5: [0, 4, 16]\n",
      "\n",
      "dictionary of squares of numbers less than 5: {0: 0, 1: 1, 2: 4, 3: 9, 4: 16}\n",
      "set of squares of numbers less than 5: set([0, 1, 4, 16, 9])\n",
      "\n",
      "[(0, 0), (0, 1), (0, 2), (0, 3), (0, 4), (1, 0), (1, 1), (1, 2), (1, 3), (1, 4), (2, 0), (2, 1), (2, 2), (2, 3), (2, 4), (3, 0), (3, 1), (3, 2), (3, 3), (3, 4), (4, 0), (4, 1), (4, 2), (4, 3), (4, 4)]\n"
     ]
    }
   ],
   "source": [
    "even_numbers = [x for x in range(5) if x%2 == 0]\n",
    "print 'list of even numbers below 5:', even_numbers\n",
    "\n",
    "squares = [x**2 for x in range(5)]\n",
    "print 'list of squares of numbers less than 5:', squares\n",
    "\n",
    "even_squares = [x**2 for x in even_numbers]\n",
    "print 'list of squares of even numbers less than 5:', even_squares\n",
    "\n",
    "print\n",
    "#turning list into dict or sets\n",
    "square_dict = {x : x**2 for x in range(5)}\n",
    "print 'dictionary of squares of numbers less than 5:', square_dict\n",
    "\n",
    "square_set =  set(x**2 for x in range(5))\n",
    "print 'set of squares of numbers less than 5:', square_set\n",
    "\n",
    "print\n",
    "#list comprehension with multiple for statements\n",
    "pairs = [(x, y) \n",
    "         for x in range(5)\n",
    "         for y in range(5)\n",
    "        ]\n",
    "print pairs"
   ]
  },
  {
   "cell_type": "markdown",
   "metadata": {},
   "source": [
    "### Generators and Iterators"
   ]
  },
  {
   "cell_type": "code",
   "execution_count": 95,
   "metadata": {
    "collapsed": false
   },
   "outputs": [
    {
     "name": "stdout",
     "output_type": "stream",
     "text": [
      "0\n",
      "1\n",
      "2\n",
      "3\n",
      "4\n",
      "5\n",
      "6\n",
      "7\n",
      "8\n",
      "9\n",
      "squares_list: [0, 1, 4, 9, 16, 25, 36, 49, 64, 81]\n"
     ]
    }
   ],
   "source": [
    "def squares(n):\n",
    "    return n**2\n",
    "\n",
    "\n",
    "def lazy_range(n):\n",
    "    \"\"\"a lazy version of range\"\"\"\n",
    "    i = 0\n",
    "    while i < n:\n",
    "        print i\n",
    "        yield i\n",
    "        i += 1\n",
    "        \n",
    "squares_list = []\n",
    "\n",
    "for i in lazy_range(10):\n",
    "    squares_list.append(squares(i))\n",
    "\n",
    "print 'squares_list:', squares_list"
   ]
  },
  {
   "cell_type": "code",
   "execution_count": 96,
   "metadata": {
    "collapsed": true
   },
   "outputs": [],
   "source": [
    "def natural_numbers():\n",
    "    n = 1\n",
    "    while True:\n",
    "        yield n\n",
    "        n += 1"
   ]
  },
  {
   "cell_type": "markdown",
   "metadata": {},
   "source": [
    "Recall that every dict has items() that returns a list of its key-value pairs. Dictionaries also have iteritems() method that lazily yields the key value pairs one at a time as we iterate over it. "
   ]
  },
  {
   "cell_type": "markdown",
   "metadata": {},
   "source": [
    "### Randomness"
   ]
  },
  {
   "cell_type": "markdown",
   "metadata": {},
   "source": [
    "We can generate random numbers using random module from Python. Some of the important methods from random package that we will often use are as follows:\n",
    "    \n",
    "- random.seed - Set random seed in case you want to have reproducible results with random numbers\n",
    "- randrange() - allows you to produce random number from within given range\n",
    "- shuffle() - randomly shuffles elements of a collection and gives an output\n",
    "- choice() - in case you want to randomly select an element from a collection\n",
    "- sample() - if you want to randomly choose a sample of elements without replacement (sampling without any duplicates)"
   ]
  },
  {
   "cell_type": "code",
   "execution_count": 97,
   "metadata": {
    "collapsed": false
   },
   "outputs": [
    {
     "name": "stdout",
     "output_type": "stream",
     "text": [
      "four_uniform_random numbers: [0.7678378139439905, 0.9824132490111909, 0.9693881604049188, 0.613326820546709]\n",
      "\n",
      "reproducible random number: 0.57140259469\n",
      "reproducible random number again: 0.57140259469\n",
      "\n",
      "random number between 0 and 10: 4\n",
      "random number between 3 and 6: 4\n",
      "\n",
      "ordered list: [0, 1, 2, 3, 4, 5, 6, 7, 8, 9]\n",
      "shuffled list: [8, 3, 5, 1, 9, 0, 4, 6, 7, 2]\n",
      "\n",
      "my_best_friend: Skinny Pete\n",
      "\n",
      "winning lottery numbers: [4, 86, 60, 38, 28, 67]\n",
      "\n",
      "four_with_replacement [4, 6, 6, 1]\n"
     ]
    }
   ],
   "source": [
    "import random \n",
    "\n",
    "four_uniform_randoms = [random.random() for _ in range(4)]\n",
    "print 'four_uniform_random numbers:', four_uniform_randoms\n",
    "print\n",
    "\n",
    "#set seed for reproducible results\n",
    "random.seed(10)\n",
    "print 'reproducible random number:', random.random()\n",
    "random.seed(10) #reset the seed to 10\n",
    "print 'reproducible random number again:',random.random()\n",
    "print\n",
    "\n",
    "#create range of random numbers \n",
    "print 'random number between 0 and 10:', random.randrange(10)\n",
    "print 'random number between 3 and 6:',random.randrange(3, 6)\n",
    "print\n",
    "\n",
    "#shuffle a list in order to get random order of its elements\n",
    "up_to_10 = range(10)\n",
    "print 'ordered list:', up_to_10\n",
    "random.shuffle(up_to_10)\n",
    "print 'shuffled list:', up_to_10\n",
    "print\n",
    "\n",
    "#randomly pick one element from list\n",
    "my_best_friend = random.choice(['Heisenberg', 'Saul', 'Jesse', 'Skinny Pete'])\n",
    "print 'my_best_friend:', my_best_friend\n",
    "print \n",
    "\n",
    "#sample numbers without replacement(without dups)\n",
    "lottery_numbers = range(100)\n",
    "winning_numbers = random.sample(lottery_numbers, 6)\n",
    "print 'winning lottery numbers:', winning_numbers\n",
    "print\n",
    "\n",
    "#sample with replacement(with dups)\n",
    "four_with_replacement = [random.choice(range(10)) for _ in range(4)]\n",
    "print 'four_with_replacement', four_with_replacement"
   ]
  },
  {
   "cell_type": "markdown",
   "metadata": {},
   "source": [
    "### Regular Expressions"
   ]
  },
  {
   "cell_type": "markdown",
   "metadata": {},
   "source": [
    "Regular expressions provide a way of searching text and are used extensively in NLP. They range from easy to extremely complicated. Some of the important functions from regular expressions (re) package in python are as follows:\n",
    "\n",
    "- re.match() - tries to match pattern with the string and returns True or False\n",
    "- re.search() - looks for pattern in the string and returns the matching pattern in string\n",
    "- re.split() - splits the string based on pattern\n",
    "- re.sub() - replaces / substitutes pattern with replacement value and changes the string value"
   ]
  },
  {
   "cell_type": "code",
   "execution_count": 98,
   "metadata": {
    "collapsed": false
   },
   "outputs": [
    {
     "name": "stdout",
     "output_type": "stream",
     "text": [
      "does a match cat? None\n",
      "does cat have an a? <_sre.SRE_Match object at 0x1040d0780>\n",
      "does dog have an a? None\n",
      "split carbs on a and b ['c', 'r', 's']\n",
      "replace any numbers with to from here to there\n"
     ]
    }
   ],
   "source": [
    "import re\n",
    "\n",
    "print 'does a match cat?', re.match('a', 'cat')\n",
    "print 'does cat have an a?', re.search('a', 'cat')\n",
    "print 'does dog have an a?', re.search('a', 'dog')\n",
    "print 'split carbs on a and b', re.split('[ab]', 'carbs')\n",
    "print 'replace any numbers with to', re.sub('[0-9]+', 'to', 'from here 2 there')"
   ]
  },
  {
   "cell_type": "markdown",
   "metadata": {},
   "source": [
    "### Object Oriented Programming"
   ]
  },
  {
   "cell_type": "markdown",
   "metadata": {},
   "source": [
    "Python allows you to create classes that encapsulate data and functions that operate on them. \n",
    "\n",
    "For example: Let us say we did not have an in-built implementation of sets in python and we would like to build one. So, we can start by constructing elements of Set class. \n",
    "\n",
    "In our set class, we would like to have following functions: \n",
    "- add : to add items to set\n",
    "- remove: to remove items from set\n",
    "- contains: to check if a given element is present in the set"
   ]
  },
  {
   "cell_type": "code",
   "execution_count": 100,
   "metadata": {
    "collapsed": false
   },
   "outputs": [],
   "source": [
    "class Set:\n",
    "    \n",
    "    def __init__(self, values = None):\n",
    "        self.dict = {}\n",
    "        if values is not None:\n",
    "            for value in values:\n",
    "                self.add(value)\n",
    "    \n",
    "    def __repr__(self):\n",
    "        return 'Set:', str(self.dict.keys())\n",
    "    \n",
    "    def add(self, value):\n",
    "        self.dict[value] = True\n",
    "    \n",
    "    def remove(self, value):\n",
    "        del self.dict[value]\n",
    "    \n",
    "    def contains(self, value):\n",
    "        return value in self.dict"
   ]
  },
  {
   "cell_type": "code",
   "execution_count": 101,
   "metadata": {
    "collapsed": false
   },
   "outputs": [
    {
     "name": "stdout",
     "output_type": "stream",
     "text": [
      "set contains 3? True\n",
      "set contains 3? False\n"
     ]
    }
   ],
   "source": [
    "s = Set([1, 2, 3])\n",
    "s.add(4)\n",
    "print 'set contains 3?', s.contains(3)\n",
    "s.remove(3)\n",
    "print 'set contains 3?', s.contains(3)"
   ]
  },
  {
   "cell_type": "markdown",
   "metadata": {},
   "source": [
    "### Functional Tools"
   ]
  },
  {
   "cell_type": "markdown",
   "metadata": {},
   "source": [
    "WHen passing funcitions around, sometimes we want to apply a function only partially to create new functions. For this purpose we can use various functional tools offered by Python. Some of the functions that we would be using are as follows:\n",
    "\n",
    "- partial(): allows you to partially fill function with default values and create new functions\n",
    "- map(): allows you to apply (or map) a function to every element of a collection\n",
    "- filter(): returns elements of a list that satisfy a pre-defined condition or filter\n",
    "- reduce(): combines all elements of a collection from left to right"
   ]
  },
  {
   "cell_type": "code",
   "execution_count": 102,
   "metadata": {
    "collapsed": false
   },
   "outputs": [
    {
     "name": "stdout",
     "output_type": "stream",
     "text": [
      "two to the power 3: 8\n",
      "square of 3: 9\n"
     ]
    }
   ],
   "source": [
    "#use of partial() function:\n",
    "def exp(base, power):\n",
    "    return base ** power\n",
    "\n",
    "#compute two to the power without using partial\n",
    "def two_to_the_power(power):\n",
    "    return exp(2, power)\n",
    "\n",
    "#use partial() function to compute results of 2 raised to a power\n",
    "from functools import partial\n",
    "two_to_the_power = partial(exp, 2) #two_to_the_power is now a function of just one variable\n",
    "print 'two to the power 3:', two_to_the_power(3)\n",
    "\n",
    "#use partial() function to compute any base number raised to a power\n",
    "square_of = partial(exp, power = 2)\n",
    "print 'square of 3:', square_of(3)"
   ]
  },
  {
   "cell_type": "code",
   "execution_count": 103,
   "metadata": {
    "collapsed": false
   },
   "outputs": [
    {
     "name": "stdout",
     "output_type": "stream",
     "text": [
      "twice_xs created using list comprehension method: [2, 4, 6, 8]\n",
      "twice_xs created using map method: [2, 4, 6, 8]\n"
     ]
    }
   ],
   "source": [
    "#use map() function\n",
    "def double(x):\n",
    "    return 2 * x\n",
    "\n",
    "xs = [1, 2, 3, 4]\n",
    "twice_xs = [double(x) for x in xs] #double every element of list using list comprehension\n",
    "print 'twice_xs created using list comprehension method:', twice_xs\n",
    "twice_xs = map(double, xs) #double every element of list by using map() function\n",
    "print 'twice_xs created using map method:', twice_xs"
   ]
  },
  {
   "cell_type": "code",
   "execution_count": 104,
   "metadata": {
    "collapsed": false
   },
   "outputs": [
    {
     "name": "stdout",
     "output_type": "stream",
     "text": [
      "x_evens created using list comprehension method: [2, 4]\n",
      "x_evens created using filter method: [2, 4]\n"
     ]
    }
   ],
   "source": [
    "#use filter() function\n",
    "def is_even(n):\n",
    "    return n%2 == 0\n",
    "\n",
    "x_evens = [x for x in xs if is_even(x)] #find even numbers in the list using list-comprehension method\n",
    "print 'x_evens created using list comprehension method:', x_evens\n",
    "x_evens = filter(is_even, xs) #double every element of list by using map() function\n",
    "print 'x_evens created using filter method:', x_evens"
   ]
  },
  {
   "cell_type": "code",
   "execution_count": 105,
   "metadata": {
    "collapsed": false
   },
   "outputs": [
    {
     "name": "stdout",
     "output_type": "stream",
     "text": [
      "product of all elements of list: 24\n"
     ]
    }
   ],
   "source": [
    "#use reduce() function\n",
    "def multiply(x, y): return x*y\n",
    "\n",
    "x_product = reduce(multiply, xs) #computes 1 * 2 * 3 * 4\n",
    "print 'product of all elements of list:', x_product"
   ]
  },
  {
   "cell_type": "markdown",
   "metadata": {},
   "source": [
    "### enumerate"
   ]
  },
  {
   "cell_type": "markdown",
   "metadata": {},
   "source": [
    "The `enumerate()` function can be use to iterate over indices and items of a list."
   ]
  },
  {
   "cell_type": "code",
   "execution_count": 106,
   "metadata": {
    "collapsed": false
   },
   "outputs": [
    {
     "name": "stdout",
     "output_type": "stream",
     "text": [
      "0 a\n",
      "1 b\n",
      "2 c\n",
      "0 a\n",
      "1 b\n",
      "2 c\n"
     ]
    }
   ],
   "source": [
    "a = [\"a\", \"b\", \"c\"]\n",
    "\n",
    "#non-pythonic way\n",
    "for i in range(len(a)):\n",
    "    print i, a[i]\n",
    "\n",
    "#pythonic way\n",
    "for index, value in enumerate(a):\n",
    "    print index, value"
   ]
  },
  {
   "cell_type": "markdown",
   "metadata": {},
   "source": [
    "### zip and Argument unpacking"
   ]
  },
  {
   "cell_type": "markdown",
   "metadata": {},
   "source": [
    "The `zip()` function can be used to iterate over two or more lists in parallel. `zip()` transforms multiple lists into a single list of tuples of corresponding elements. "
   ]
  },
  {
   "cell_type": "code",
   "execution_count": 107,
   "metadata": {
    "collapsed": false
   },
   "outputs": [
    {
     "name": "stdout",
     "output_type": "stream",
     "text": [
      "list1 and list2 zipped together: [('a', 1), ('b', 2), ('c', 3)]\n",
      "1 3 6\n",
      "2 4 7\n",
      "3 5 8\n",
      "0 a1 b1\n",
      "1 a2 b2\n",
      "2 a3 b3\n"
     ]
    }
   ],
   "source": [
    "#example1:\n",
    "list1 = ['a', 'b', 'c']\n",
    "list2 = [1, 2, 3]\n",
    "print 'list1 and list2 zipped together:', zip(list1, list2)\n",
    "\n",
    "#example2:\n",
    "a = [1, 2, 3]\n",
    "b = [3, 4, 5]\n",
    "c = [6, 7, 8]\n",
    "\n",
    "for i, j, k in zip(a, b, c):\n",
    "    print i, j, k\n",
    "\n",
    "\n",
    "### Use zip() and enumerate() together\n",
    "alist = ['a1', 'a2', 'a3']\n",
    "blist = ['b1', 'b2', 'b3']\n",
    "\n",
    "for i, (a,b) in enumerate(zip(alist, blist)):\n",
    "    print i, a, b"
   ]
  },
  {
   "cell_type": "markdown",
   "metadata": {},
   "source": [
    "You can also `unzip` a list using *. "
   ]
  },
  {
   "cell_type": "code",
   "execution_count": 108,
   "metadata": {
    "collapsed": false
   },
   "outputs": [
    {
     "name": "stdout",
     "output_type": "stream",
     "text": [
      "numbers in list: (1, 2, 3)\n",
      "letters in list: ('one', 'two', 'three')\n",
      "add 1 and 2 by using simple function call: 3\n",
      "add 1 and 2 by passing unpacked list [1,2] to add() method: 3\n"
     ]
    }
   ],
   "source": [
    "pairs = [(1, 'one'), (2, 'two'), (3, 'three')]\n",
    "numbers, letters = zip(*pairs)\n",
    "print 'numbers in list:', numbers\n",
    "print 'letters in list:', letters\n",
    "\n",
    "#using argument unpacking with any function. \n",
    "def add(a, b): return a + b\n",
    "\n",
    "print 'add 1 and 2 by using simple function call:', add(1,2)\n",
    "# print 'add 1 and 2 by passing list [1,2] to add() method:' add([1, 2]) #produces error\n",
    "print 'add 1 and 2 by passing unpacked list [1,2] to add() method:', add(*[1, 2])"
   ]
  },
  {
   "cell_type": "markdown",
   "metadata": {},
   "source": [
    "### args and kwargs"
   ]
  },
  {
   "cell_type": "markdown",
   "metadata": {},
   "source": [
    "`*args`  allows us to pass variable number of arguments to the function. Let’s take an example to make this clear.\n",
    "\n",
    "In our following example, we first build a function to add two numbers. As you can see the first add() only accepts two numbers, what if you want to pass more than two arguments, this is where *args  comes into play.\n",
    "\n"
   ]
  },
  {
   "cell_type": "code",
   "execution_count": 111,
   "metadata": {
    "collapsed": false
   },
   "outputs": [
    {
     "name": "stdout",
     "output_type": "stream",
     "text": [
      " add 3 numbers using add_variable() 6\n",
      "add 6 numbers using add_variable() 24\n"
     ]
    }
   ],
   "source": [
    "#function to add numbers:\n",
    "def add_fixed(a, b):\n",
    "    return a + b\n",
    "\n",
    "def add_variable(*args):\n",
    "    sum = 0\n",
    "    for num in args:\n",
    "        sum += num\n",
    "    return sum\n",
    "\n",
    "# print 'add 3 numbers using add_fixed():', add_fixed(3, 2, 1) #gives an error\n",
    "print 'add 3 numbers using add_variable()', add_variable(3, 2, 1)\n",
    "print 'add 6 numbers using add_variable()', add_variable(3, 2, 1, 5, 6, 7)"
   ]
  },
  {
   "cell_type": "markdown",
   "metadata": {},
   "source": [
    "**Note:** name of `*args`  is just a convention you can use anything that is a valid identifier. For e.g `*myargs` is perfectly valid."
   ]
  },
  {
   "cell_type": "markdown",
   "metadata": {},
   "source": [
    "`**kwargs` allows us to pass variable number of keyword argument like this `func_name(name='tim', team='school')`"
   ]
  },
  {
   "cell_type": "code",
   "execution_count": 116,
   "metadata": {
    "collapsed": false
   },
   "outputs": [
    {
     "name": "stdout",
     "output_type": "stream",
     "text": [
      "('sport', 'football')\n",
      "('name', 'tim')\n",
      "('roll', 19)\n"
     ]
    }
   ],
   "source": [
    "def my_func(**kwargs):\n",
    "    for i, j in kwargs.items():\n",
    "        print(i, j)\n",
    "        \n",
    "        \n",
    "my_func(name='tim', sport='football', roll=19)"
   ]
  },
  {
   "cell_type": "code",
   "execution_count": null,
   "metadata": {
    "collapsed": true
   },
   "outputs": [],
   "source": []
  }
 ],
 "metadata": {
  "kernelspec": {
   "display_name": "Python 2",
   "language": "python",
   "name": "python2"
  },
  "language_info": {
   "codemirror_mode": {
    "name": "ipython",
    "version": 2
   },
   "file_extension": ".py",
   "mimetype": "text/x-python",
   "name": "python",
   "nbconvert_exporter": "python",
   "pygments_lexer": "ipython2",
   "version": "2.7.11"
  }
 },
 "nbformat": 4,
 "nbformat_minor": 0
}
