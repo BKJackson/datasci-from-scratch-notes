{
 "cells": [
  {
   "cell_type": "markdown",
   "metadata": {},
   "source": [
    "# The Basics"
   ]
  },
  {
   "cell_type": "markdown",
   "metadata": {},
   "source": [
    "## Whitespace Formatting"
   ]
  },
  {
   "cell_type": "markdown",
   "metadata": {},
   "source": [
    "Python uses indentations in order to delimit blocks of code. A simple for loop example is as below:"
   ]
  },
  {
   "cell_type": "code",
   "execution_count": 3,
   "metadata": {
    "collapsed": false
   },
   "outputs": [
    {
     "name": "stdout",
     "output_type": "stream",
     "text": [
      "0\n",
      "0\n",
      "0\n",
      "1\n",
      "1\n",
      "2\n",
      "2\n",
      "3\n",
      "3\n",
      "4\n",
      "4\n",
      "1\n",
      "1\n",
      "0\n",
      "2\n",
      "1\n",
      "3\n",
      "2\n",
      "4\n",
      "3\n",
      "5\n",
      "4\n",
      "2\n",
      "2\n",
      "0\n",
      "3\n",
      "1\n",
      "4\n",
      "2\n",
      "5\n",
      "3\n",
      "6\n",
      "4\n",
      "3\n",
      "3\n",
      "0\n",
      "4\n",
      "1\n",
      "5\n",
      "2\n",
      "6\n",
      "3\n",
      "7\n",
      "4\n",
      "4\n",
      "4\n",
      "0\n",
      "5\n",
      "1\n",
      "6\n",
      "2\n",
      "7\n",
      "3\n",
      "8\n",
      "4\n",
      "looping done\n"
     ]
    }
   ],
   "source": [
    "for i in range(5):\n",
    "    print i\n",
    "    for j in range(5): #for loop within the outer for loop - recognized by the indentation\n",
    "        print (i + j)\n",
    "        print j\n",
    "print 'looping done' #print once loop is completed -- no indentation here as the command prints once both the for loops are completed        "
   ]
  },
  {
   "cell_type": "markdown",
   "metadata": {},
   "source": [
    "## Modules"
   ]
  },
  {
   "cell_type": "markdown",
   "metadata": {},
   "source": [
    "Modules are libraries contaiing functions and constants. In order to be able to use these functions or constants, you need to import the respective modules before using them. "
   ]
  },
  {
   "cell_type": "code",
   "execution_count": 7,
   "metadata": {
    "collapsed": false
   },
   "outputs": [
    {
     "name": "stdout",
     "output_type": "stream",
     "text": [
      "<_sre.SRE_Pattern object at 0x103ec1e88>\n"
     ]
    }
   ],
   "source": [
    "import re\n",
    "my_regex = re.compile('[0-9]', re.I)\n",
    "print my_regex"
   ]
  },
  {
   "cell_type": "markdown",
   "metadata": {},
   "source": [
    "You can also use an alias while import a module and then, you can call functions and constants of the module using the alias name. "
   ]
  },
  {
   "cell_type": "code",
   "execution_count": 8,
   "metadata": {
    "collapsed": false
   },
   "outputs": [
    {
     "name": "stdout",
     "output_type": "stream",
     "text": [
      "<_sre.SRE_Pattern object at 0x103ec1e88>\n"
     ]
    }
   ],
   "source": [
    "import re as regex\n",
    "my_regex = regex.compile('[0-9]', regex.I)\n",
    "print my_regex"
   ]
  },
  {
   "cell_type": "markdown",
   "metadata": {},
   "source": [
    "In order to import specific values from a module, you can import them explicitly to be able to use them without any qualification (dot notation in Python)"
   ]
  },
  {
   "cell_type": "code",
   "execution_count": 9,
   "metadata": {
    "collapsed": true
   },
   "outputs": [],
   "source": [
    "from collections import defaultdict, Counter\n",
    "lookup = defaultdict(int)\n",
    "my_counter = Counter()"
   ]
  },
  {
   "cell_type": "markdown",
   "metadata": {},
   "source": [
    "Be wary of importing whole module to make sure that the module does not contain any constant / function name same as that of any of your variables"
   ]
  },
  {
   "cell_type": "code",
   "execution_count": 10,
   "metadata": {
    "collapsed": false
   },
   "outputs": [
    {
     "name": "stdout",
     "output_type": "stream",
     "text": [
      "<function match at 0x1028a2d70>\n"
     ]
    }
   ],
   "source": [
    "match = 10 #your variable\n",
    "from re import * #you imported everything including match() function from re module\n",
    "print match #will not print 10 anymore"
   ]
  },
  {
   "cell_type": "markdown",
   "metadata": {},
   "source": [
    "## Arithmetic"
   ]
  },
  {
   "cell_type": "markdown",
   "metadata": {},
   "source": [
    "By default, Python division provides integer output."
   ]
  },
  {
   "cell_type": "code",
   "execution_count": 11,
   "metadata": {
    "collapsed": false
   },
   "outputs": [
    {
     "name": "stdout",
     "output_type": "stream",
     "text": [
      "2\n"
     ]
    }
   ],
   "source": [
    "print (5 / 2) #prints 2 instead of 2.5"
   ]
  },
  {
   "cell_type": "markdown",
   "metadata": {},
   "source": [
    "Hence, we would import division from __future__ module in order to override this property"
   ]
  },
  {
   "cell_type": "code",
   "execution_count": 12,
   "metadata": {
    "collapsed": false
   },
   "outputs": [
    {
     "name": "stdout",
     "output_type": "stream",
     "text": [
      "2.5\n"
     ]
    }
   ],
   "source": [
    "from __future__ import division\n",
    "print (5 / 2)"
   ]
  },
  {
   "cell_type": "markdown",
   "metadata": {},
   "source": [
    "## Functions"
   ]
  },
  {
   "cell_type": "markdown",
   "metadata": {},
   "source": [
    "Function refers to user-defined methods that would take zero or more inputs, do some computations and returns an output"
   ]
  },
  {
   "cell_type": "code",
   "execution_count": 13,
   "metadata": {
    "collapsed": true
   },
   "outputs": [],
   "source": [
    "def double(x):\n",
    "    \"\"\"You can provide a brief description of your method and explain types of input used and outputs returned by \n",
    "    the function\n",
    "    \n",
    "    returns value twice as x\n",
    "    \n",
    "    x: integer / float value\n",
    "    \"\"\"\n",
    "    return x * 2"
   ]
  },
  {
   "cell_type": "markdown",
   "metadata": {},
   "source": [
    "Python functions are first class -- you can assign them to a variable and pass them into functions like arguments"
   ]
  },
  {
   "cell_type": "code",
   "execution_count": 14,
   "metadata": {
    "collapsed": false
   },
   "outputs": [
    {
     "name": "stdout",
     "output_type": "stream",
     "text": [
      "4\n"
     ]
    }
   ],
   "source": [
    "result = double(2)\n",
    "print result"
   ]
  },
  {
   "cell_type": "code",
   "execution_count": 16,
   "metadata": {
    "collapsed": false
   },
   "outputs": [
    {
     "name": "stdout",
     "output_type": "stream",
     "text": [
      "2\n"
     ]
    }
   ],
   "source": [
    "def apply_to_one(function_name):\n",
    "    \"\"\"\n",
    "    calls provided function and passes argument value of 1\n",
    "    function_name: function\n",
    "    \"\"\"\n",
    "    return function_name(1)\n",
    "\n",
    "print apply_to_one(double)"
   ]
  },
  {
   "cell_type": "code",
   "execution_count": 17,
   "metadata": {
    "collapsed": false
   },
   "outputs": [
    {
     "name": "stdout",
     "output_type": "stream",
     "text": [
      "2\n"
     ]
    }
   ],
   "source": [
    "my_double = double #assign function to a variable\n",
    "print apply_to_one(my_double) #pass function double() as argument to another function"
   ]
  },
  {
   "cell_type": "markdown",
   "metadata": {},
   "source": [
    "You can also pass anonymous functions as argument to another function"
   ]
  },
  {
   "cell_type": "code",
   "execution_count": 18,
   "metadata": {
    "collapsed": false
   },
   "outputs": [
    {
     "name": "stdout",
     "output_type": "stream",
     "text": [
      "5\n"
     ]
    }
   ],
   "source": [
    "y = apply_to_one(lambda x : x + 4)\n",
    "print y"
   ]
  },
  {
   "cell_type": "markdown",
   "metadata": {},
   "source": [
    "You can also set default values for any / all of your function arguments"
   ]
  },
  {
   "cell_type": "code",
   "execution_count": 19,
   "metadata": {
    "collapsed": false
   },
   "outputs": [
    {
     "name": "stdout",
     "output_type": "stream",
     "text": [
      "hello\n",
      "my default message\n"
     ]
    }
   ],
   "source": [
    "def my_print(message='my default message'):\n",
    "    print message\n",
    "    \n",
    "my_print('hello')\n",
    "my_print()"
   ]
  },
  {
   "cell_type": "markdown",
   "metadata": {},
   "source": [
    "You can also specify argument names when calling a function"
   ]
  },
  {
   "cell_type": "code",
   "execution_count": 21,
   "metadata": {
    "collapsed": false
   },
   "outputs": [
    {
     "name": "stdout",
     "output_type": "stream",
     "text": [
      "5\n",
      "-5\n",
      "-5\n"
     ]
    }
   ],
   "source": [
    "def subtract(a = 0, b = 0):\n",
    "    return a - b\n",
    "\n",
    "print subtract(10, 5)\n",
    "print subtract(0, 5)\n",
    "print subtract(b = 5) #same as previous"
   ]
  },
  {
   "cell_type": "markdown",
   "metadata": {},
   "source": [
    "## Strings"
   ]
  },
  {
   "cell_type": "markdown",
   "metadata": {},
   "source": [
    "Strings can be delimited using either single quotes or double quotes only. "
   ]
  },
  {
   "cell_type": "code",
   "execution_count": 22,
   "metadata": {
    "collapsed": true
   },
   "outputs": [],
   "source": [
    "single_quote_string = 'data science'\n",
    "double_quote_String = \"data science\""
   ]
  },
  {
   "cell_type": "markdown",
   "metadata": {},
   "source": [
    "Python uses backlashes in order to encode special characters"
   ]
  },
  {
   "cell_type": "code",
   "execution_count": 23,
   "metadata": {
    "collapsed": false
   },
   "outputs": [
    {
     "data": {
      "text/plain": [
       "1"
      ]
     },
     "execution_count": 23,
     "metadata": {},
     "output_type": "execute_result"
    }
   ],
   "source": [
    "newline = '\\n'\n",
    "len(newline)"
   ]
  },
  {
   "cell_type": "markdown",
   "metadata": {},
   "source": [
    "If you want to maintain backslashes from indicating special chacaters, use the raw strings format in Python"
   ]
  },
  {
   "cell_type": "code",
   "execution_count": 24,
   "metadata": {
    "collapsed": false
   },
   "outputs": [
    {
     "data": {
      "text/plain": [
       "2"
      ]
     },
     "execution_count": 24,
     "metadata": {},
     "output_type": "execute_result"
    }
   ],
   "source": [
    "not_newline = r'\\n'\n",
    "len(not_newline)"
   ]
  },
  {
   "cell_type": "markdown",
   "metadata": {},
   "source": [
    "You can create multi-line strings using triple double quotes "
   ]
  },
  {
   "cell_type": "code",
   "execution_count": 25,
   "metadata": {
    "collapsed": false
   },
   "outputs": [
    {
     "name": "stdout",
     "output_type": "stream",
     "text": [
      "This is the first line. \n",
      "And this is the second line. \n",
      "And this is the third line.\n"
     ]
    }
   ],
   "source": [
    "multiline_string = \"\"\"This is the first line. \n",
    "And this is the second line. \n",
    "And this is the third line.\"\"\"\n",
    "print multiline_string"
   ]
  },
  {
   "cell_type": "markdown",
   "metadata": {},
   "source": [
    "## Exceptions"
   ]
  },
  {
   "cell_type": "markdown",
   "metadata": {},
   "source": [
    "Python raises exception if something goes wrong in the program. You can handle exceptions in your program using try and except commands in order to keep your pgram from crashing. "
   ]
  },
  {
   "cell_type": "code",
   "execution_count": 26,
   "metadata": {
    "collapsed": false
   },
   "outputs": [
    {
     "name": "stdout",
     "output_type": "stream",
     "text": [
      "division by 0\n"
     ]
    }
   ],
   "source": [
    "try: \n",
    "    print 0/0\n",
    "except ZeroDivisionError: \n",
    "    print 'division by 0'"
   ]
  },
  {
   "cell_type": "markdown",
   "metadata": {
    "collapsed": true
   },
   "source": [
    "## Lists"
   ]
  },
  {
   "cell_type": "markdown",
   "metadata": {},
   "source": [
    "List is a ordered collection of same or different types of Python objects"
   ]
  },
  {
   "cell_type": "code",
   "execution_count": 1,
   "metadata": {
    "collapsed": false
   },
   "outputs": [
    {
     "name": "stdout",
     "output_type": "stream",
     "text": [
      "3\n",
      "6\n"
     ]
    }
   ],
   "source": [
    "int_list = [1, 2, 3]\n",
    "heterogenous_list = [1, 'string', 3.4]\n",
    "list_of_lists = [int_list, heterogenous_list, []]\n",
    "\n",
    "print (len(int_list))\n",
    "print (sum(int_list))"
   ]
  },
  {
   "cell_type": "markdown",
   "metadata": {},
   "source": [
    "Python is zero-indexed language. So, you can directly extract nth element of the list by indexing the list. However, keep in mind that the 1st element of the list is indexed as 0, second element of the list is indexed as 1 and so on. You can get and set nth element of the list as follows:"
   ]
  },
  {
   "cell_type": "code",
   "execution_count": 10,
   "metadata": {
    "collapsed": false
   },
   "outputs": [
    {
     "name": "stdout",
     "output_type": "stream",
     "text": [
      "0\n",
      "1\n",
      "9\n",
      "8\n",
      "Before: 2\n",
      "After: two\n"
     ]
    }
   ],
   "source": [
    "x = range(10)\n",
    "zero = x[0]\n",
    "one = x[1]\n",
    "nine = x[-1] #last element of the list\n",
    "eight = x[-2] #second to last element in the list\n",
    "print(zero)\n",
    "print(one)\n",
    "print(nine)\n",
    "print(eight)\n",
    "\n",
    "print 'Before:', x[2]\n",
    "x[2] = 'two'\n",
    "print 'After:', x[2]\n"
   ]
  },
  {
   "cell_type": "markdown",
   "metadata": {},
   "source": [
    "You can also slice Python lists as follows:"
   ]
  },
  {
   "cell_type": "code",
   "execution_count": 12,
   "metadata": {
    "collapsed": false
   },
   "outputs": [
    {
     "name": "stdout",
     "output_type": "stream",
     "text": [
      "[0, 1, 'two']\n",
      "[3, 4, 5, 6, 7, 8, 9]\n",
      "[1, 'two', 3, 4]\n",
      "[1, 'two', 3, 4, 5, 6, 7, 8]\n",
      "[0, 1, 'two', 3, 4, 5, 6, 7, 8, 9]\n"
     ]
    }
   ],
   "source": [
    "first_three_elements = x[:3] #gives x[0], x[1] and x[2]. All indexes EXCLUDING the last index(3 in our case)\n",
    "elements_after_third = x[3:] #gives all elements starting at index 3 (element at index 3 is included in the output)\n",
    "one_to_four = x[1:5] #gives elements starting at index 1 through 4\n",
    "without_first_and_last = x[1:-1] #gives elements starting at index 1 until the second to last element. Last element is excluded\n",
    "copy_of_x = x[:]\n",
    "\n",
    "print first_three_elements\n",
    "print elements_after_third\n",
    "print one_to_four\n",
    "print without_first_and_last\n",
    "print copy_of_x"
   ]
  },
  {
   "cell_type": "markdown",
   "metadata": {},
   "source": [
    "You can check list membership using 'in' operator. This operation would go through every element in the list until a match is found"
   ]
  },
  {
   "cell_type": "code",
   "execution_count": 13,
   "metadata": {
    "collapsed": false
   },
   "outputs": [
    {
     "name": "stdout",
     "output_type": "stream",
     "text": [
      "True\n",
      "False\n"
     ]
    }
   ],
   "source": [
    "print 0 in x\n",
    "print 12 in x"
   ]
  },
  {
   "cell_type": "markdown",
   "metadata": {},
   "source": [
    "You can concatenate lists in two ways: One that would change the original list and the other would leave the original list unchanged"
   ]
  },
  {
   "cell_type": "code",
   "execution_count": 15,
   "metadata": {
    "collapsed": false
   },
   "outputs": [
    {
     "name": "stdout",
     "output_type": "stream",
     "text": [
      "x: [1, 2, 3, 4, 5, 6]\n",
      "x: [1, 2, 3]\n",
      "y: [1, 2, 3, 4, 5, 6]\n"
     ]
    }
   ],
   "source": [
    "x = [1, 2, 3]\n",
    "x.extend([4, 5, 6]) #x is now changed\n",
    "print 'x:', x\n",
    "\n",
    "x = [1, 2, 3]\n",
    "y = x + [4, 5, 6] #x is unchanged\n",
    "print 'x:', x\n",
    "print 'y:', y"
   ]
  },
  {
   "cell_type": "markdown",
   "metadata": {},
   "source": [
    "You can add element(s) to the end of list by using 'append' command"
   ]
  },
  {
   "cell_type": "code",
   "execution_count": 17,
   "metadata": {
    "collapsed": false
   },
   "outputs": [
    {
     "name": "stdout",
     "output_type": "stream",
     "text": [
      "[1, 2, 3, 4]\n"
     ]
    }
   ],
   "source": [
    "x = [1, 2, 3]\n",
    "x.append(4)\n",
    "print x"
   ]
  },
  {
   "cell_type": "markdown",
   "metadata": {},
   "source": [
    "## Tuples"
   ]
  },
  {
   "cell_type": "markdown",
   "metadata": {},
   "source": [
    "Tuples are similar to list. The difference is that tuples are immutable. "
   ]
  },
  {
   "cell_type": "code",
   "execution_count": 18,
   "metadata": {
    "collapsed": false
   },
   "outputs": [
    {
     "name": "stdout",
     "output_type": "stream",
     "text": [
      "[1, 3]\n",
      "Cannot modify a tuple\n"
     ]
    }
   ],
   "source": [
    "my_list = [1, 2]\n",
    "my_tuple = (1, 2)\n",
    "\n",
    "my_list[1] = 3 #this would modify my_list and is legal\n",
    "print my_list\n",
    "\n",
    "try: \n",
    "    my_tuple[1] = 3\n",
    "except TypeError:\n",
    "    print 'Cannot modify a tuple'"
   ]
  },
  {
   "cell_type": "markdown",
   "metadata": {},
   "source": [
    "Tuples are convenient way to return multiple values from functions and they can also be used in multiple assignments"
   ]
  },
  {
   "cell_type": "code",
   "execution_count": 20,
   "metadata": {
    "collapsed": false
   },
   "outputs": [
    {
     "name": "stdout",
     "output_type": "stream",
     "text": [
      "(5, 6)\n",
      "15\n",
      "50\n"
     ]
    }
   ],
   "source": [
    "def sum_and_product(x, y):\n",
    "    return (x + y), (x * y)\n",
    "sp = sum_and_product(2, 3)\n",
    "print sp\n",
    "s, p = sum_and_product(5, 10)\n",
    "print s\n",
    "print p"
   ]
  },
  {
   "cell_type": "markdown",
   "metadata": {},
   "source": [
    "## Dictionaries"
   ]
  },
  {
   "cell_type": "markdown",
   "metadata": {},
   "source": [
    "Dictionaries are a collection of key-value pairs"
   ]
  },
  {
   "cell_type": "code",
   "execution_count": 27,
   "metadata": {
    "collapsed": false
   },
   "outputs": [
    {
     "name": "stdout",
     "output_type": "stream",
     "text": [
      "{}\n",
      "{'Tim': 90, 'Joel': 80}\n"
     ]
    }
   ],
   "source": [
    "empty_dict = {}\n",
    "grades = {'Joel': 80, 'Tim': 90}\n",
    "print empty_dict\n",
    "print grades"
   ]
  },
  {
   "cell_type": "markdown",
   "metadata": {},
   "source": [
    "You look up values for a key using square brackets. This also means that Python will throw an error in case the key you are looking for does not exist in the dictionary. "
   ]
  },
  {
   "cell_type": "code",
   "execution_count": 24,
   "metadata": {
    "collapsed": false
   },
   "outputs": [
    {
     "name": "stdout",
     "output_type": "stream",
     "text": [
      "80\n",
      "no grade for Larry\n"
     ]
    }
   ],
   "source": [
    "print grades['Joel']\n",
    "\n",
    "try: \n",
    "    print grades['Larry']\n",
    "except KeyError:\n",
    "    print 'no grade for Larry'"
   ]
  },
  {
   "cell_type": "markdown",
   "metadata": {},
   "source": [
    "Similaryly, you can set (modify / add new) values in dictionary using square brackets as follows:"
   ]
  },
  {
   "cell_type": "code",
   "execution_count": 28,
   "metadata": {
    "collapsed": false
   },
   "outputs": [
    {
     "name": "stdout",
     "output_type": "stream",
     "text": [
      "{'Tim': 90, 'Joel': 80, 'Larry': 100}\n",
      "Joel's grade before change: 80\n",
      "Joel's grade after change: 70\n"
     ]
    }
   ],
   "source": [
    "grades['Larry'] = 100 #dictionary is now changed since we added a new key-value pair\n",
    "print grades\n",
    "\n",
    "print \"Joel's grade before change:\", grades['Joel']\n",
    "grades['Joel'] = 70 #Joel's grades are now changed\n",
    "print \"Joel's grade after change:\", grades['Joel']"
   ]
  },
  {
   "cell_type": "markdown",
   "metadata": {},
   "source": [
    "We can look at all the keys, values or (key, value) pairs of dictionary as follows:"
   ]
  },
  {
   "cell_type": "code",
   "execution_count": 30,
   "metadata": {
    "collapsed": false
   },
   "outputs": [
    {
     "name": "stdout",
     "output_type": "stream",
     "text": [
      "['Tim', 'Joel', 'Larry']\n",
      "[90, 70, 100]\n",
      "[('Tim', 90), ('Joel', 70), ('Larry', 100)]\n"
     ]
    }
   ],
   "source": [
    "print grades.keys() #prints names of students\n",
    "print grades.values() #prints grades\n",
    "print grades.items() #prints name:grade pair as tuples of a list"
   ]
  },
  {
   "cell_type": "markdown",
   "metadata": {},
   "source": [
    "Keys of dictionaries can be string or numbers or tuples or a combination of those. You cannot use list as a key of dictionary as lists are mutable. "
   ]
  },
  {
   "cell_type": "code",
   "execution_count": null,
   "metadata": {
    "collapsed": false
   },
   "outputs": [],
   "source": []
  },
  {
   "cell_type": "code",
   "execution_count": null,
   "metadata": {
    "collapsed": true
   },
   "outputs": [],
   "source": []
  }
 ],
 "metadata": {
  "kernelspec": {
   "display_name": "Python 2",
   "language": "python",
   "name": "python2"
  },
  "language_info": {
   "codemirror_mode": {
    "name": "ipython",
    "version": 2
   },
   "file_extension": ".py",
   "mimetype": "text/x-python",
   "name": "python",
   "nbconvert_exporter": "python",
   "pygments_lexer": "ipython2",
   "version": "2.7.11"
  }
 },
 "nbformat": 4,
 "nbformat_minor": 0
}
