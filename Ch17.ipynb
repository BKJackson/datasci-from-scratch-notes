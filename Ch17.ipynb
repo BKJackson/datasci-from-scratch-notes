{
 "cells": [
  {
   "cell_type": "markdown",
   "metadata": {},
   "source": [
    "# Ch. 17: Decision Trees\n",
    "Notes on \"Data Science from Scratch\" by Joel Grus"
   ]
  },
  {
   "cell_type": "code",
   "execution_count": 13,
   "metadata": {
    "collapsed": true
   },
   "outputs": [],
   "source": [
    "import math\n",
    "from collections import Counter\n",
    "\n",
    "import numpy as np\n",
    "import matplotlib.pyplot as mpl\n",
    "%matplotlib inline"
   ]
  },
  {
   "cell_type": "markdown",
   "metadata": {},
   "source": [
    "## What Is a Decision Tree?\n",
    "- uses a tree structure to represent a number of possible *decision paths* and an outcome for each path\n",
    "- easy to understand and interpret, and the process by which they reach a prediction is transparent\n",
    "- can easily handle a mix of numeric and categorical attributes\n",
    "- can classify data for which attributes are missing\n",
    "- finding an \"optimal\" tree for a set of training data is computationally a very hard problem\n",
    "- it's very easy (and bad) to build decision trees that are *overfitted* to the training data (that don't generalize well to unseen daya)\n",
    "\n",
    "Can be divided into two types:\n",
    "- *classification trees* - produce categorical outputs\n",
    "- *regression trees* - produce numeric outputs\n",
    "\n",
    "Specifically, we'll look at the **ID3 algorithm** for learning a decision tree from a set of labeled data and restrict ourselves to binary outputs (e.g., Yes/No) instead of 3 or more (e.g., Yes/Maybe/No)."
   ]
  },
  {
   "cell_type": "markdown",
   "metadata": {},
   "source": [
    "## Entropy\n",
    "To build a decision tree we need to decide what questions to ask and in what order.\n",
    "\n",
    "We want to choose questions whose answers give a lot of information about what our tree should predict.  We capture \"how much information\" with *entropy*, or amount of uncertainty associated with data.  \n",
    "\n",
    "Imagine we have a set $S$ of data, each member of which is labeled as belonging to one of a finite number of classes $C_1, ..., C_n$. \n",
    "- If all the data points belong to a single class then entropy (amount of uncertainty) should be low.\n",
    "- If the data points are evenly spread across the class then entropy should be high.\n",
    "\n",
    "Let $p_i$ be the proportion of data labeled as class $c_i$.  Entropy is defined as:\n",
    "$$H(S) = -p_1 \\log_2 p_1 - ... - p_n \\log_2 p_n$$"
   ]
  },
  {
   "cell_type": "code",
   "execution_count": 11,
   "metadata": {
    "collapsed": false
   },
   "outputs": [
    {
     "data": {
      "text/plain": [
       "[<matplotlib.lines.Line2D at 0x112721610>]"
      ]
     },
     "execution_count": 11,
     "metadata": {},
     "output_type": "execute_result"
    },
    {
     "data": {
      "image/png": "[encoded data removed]",
      "text/plain": [
       "<matplotlib.figure.Figure at 0x11244cf10>"
      ]
     },
     "metadata": {},
     "output_type": "display_data"
    }
   ],
   "source": [
    "xs = np.arange(0.05, 1.0, 0.05)\n",
    "ys = -xs * np.log2(xs)\n",
    "mpl.plot(xs, ys)"
   ]
  },
  {
   "cell_type": "markdown",
   "metadata": {},
   "source": [
    "From the graph we see that the entropy would be very small when every $p_i$ is close to $0$ or $1$ (when most of the data is in a single class) and would be larger when many of the $p_i$'s are not close to $0$ or $1$ (when data is spread across multiple classes."
   ]
  },
  {
   "cell_type": "code",
   "execution_count": 14,
   "metadata": {
    "collapsed": true
   },
   "outputs": [],
   "source": [
    "def entropy(class_probabilities):\n",
    "    \"\"\"Give a list of class probabilities, compute the entropy.\"\"\"\n",
    "    return sum(-p * math.log(p, 2)\n",
    "               for p in class_probabilitiers\n",
    "               if p) # ignore zero probabilities\n",
    "\n",
    "def class_probabilities(labels):\n",
    "    total_count = len(labels)\n",
    "    return [count / total_count\n",
    "           for count in Counter(labels).values()]\n",
    "\n",
    "def data_entropy(labeled_data):\n",
    "    labels = [label for _, label in labeled_data]\n",
    "    probabilities = class_probabilities(labels)\n",
    "    return entropy(probabilities)"
   ]
  },
  {
   "cell_type": "markdown",
   "metadata": {},
   "source": [
    "## The Entropy of a Partitition\n",
    "The stuff above computes the entropy (\"uncertainty\") of a single set of labeled data.  Now we want to get an idea of the entropy that results from partitioning a set of data in a certain way.  We want the partition to have low entropy if it splits the data into subsets that themselves have low entropy (high certainty), and high entropy if it contains subsets that have high entropy (low certainty).\n",
    "\n",
    "If we partition our data $S$ into subsets $S_1, ..., S_m$ containing proportions $q_1, ..., q_m$ of the data, the the entropy of partition is the weighted sum:\n",
    "$$H = q_1 H(S_1) + ... + q_m H(S_m)$$"
   ]
  },
  {
   "cell_type": "code",
   "execution_count": 15,
   "metadata": {
    "collapsed": true
   },
   "outputs": [],
   "source": [
    "def partition_entropy(subsets):\n",
    "    \"\"\"Find the entropy from this partition of data into subsets.\n",
    "    Subsets is a list of lists of labeled data.\"\"\"\n",
    "    \n",
    "    total_count = sum(len(subset) for subset in subsets)\n",
    "    \n",
    "    return sum( data_entropy(subset) * len(subset) / total_count\n",
    "              for subset in subsets )"
   ]
  },
  {
   "cell_type": "code",
   "execution_count": 22,
   "metadata": {
    "collapsed": false
   },
   "outputs": [
    {
     "data": {
      "text/plain": [
       "-0.0"
      ]
     },
     "execution_count": 22,
     "metadata": {},
     "output_type": "execute_result"
    }
   ],
   "source": [
    "- 1.0 * np.log2(1.0)"
   ]
  },
  {
   "cell_type": "markdown",
   "metadata": {},
   "source": [
    "## Creating a Decision Tree\n"
   ]
  },
  {
   "cell_type": "code",
   "execution_count": 16,
   "metadata": {
    "collapsed": true
   },
   "outputs": [],
   "source": [
    "inputs = [\n",
    "    ({'level':'Senior', 'lang':'Java', 'tweets':'no', 'phd':'no'},   False),\n",
    "    ({'level':'Senior', 'lang':'Java', 'tweets':'no', 'phd':'yse'},   False),\n",
    "    ({'level':'Mid', 'lang':'Python', 'tweets':'no', 'phd':'no'},   True),\n",
    "    ({'level':'Junior', 'lang':'Python', 'tweets':'no', 'phd':'no'},   True),\n",
    "]"
   ]
  },
  {
   "cell_type": "markdown",
   "metadata": {},
   "source": [
    "### ID3 Algorithm\n",
    "- If the data all have the same label, then create a leaf node that predicts that label and then stop.\n",
    "- If the list of attributes is empty (i.e., there are no more possible questions to ask), then create a leaf node that predicts the most common label and then stop.\n",
    "- Otherwise, try partitioning the data by each of the attributes.\n",
    "- Choose the partition with the lowest partition entropy.\n",
    "- Add a decision node based on the chosed attribute.\n",
    "- Recur on each partitioned subset using the remaining attributes.\n",
    "\n",
    "This is known as a \"greedy\" algorithm because at each step it chooses the most immediately best option.  Give a data set, there may be a better tree with a worse-looking first move.  If so, this algorithm won't find it."
   ]
  },
  {
   "cell_type": "code",
   "execution_count": null,
   "metadata": {
    "collapsed": true
   },
   "outputs": [],
   "source": []
  }
 ],
 "metadata": {
  "kernelspec": {
   "display_name": "Python 2",
   "language": "python",
   "name": "python2"
  },
  "language_info": {
   "codemirror_mode": {
    "name": "ipython",
    "version": 2
   },
   "file_extension": ".py",
   "mimetype": "text/x-python",
   "name": "python",
   "nbconvert_exporter": "python",
   "pygments_lexer": "ipython2",
   "version": "2.7.11"
  }
 },
 "nbformat": 4,
 "nbformat_minor": 0
}
