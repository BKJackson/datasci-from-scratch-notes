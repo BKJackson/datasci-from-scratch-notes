{
 "cells": [
  {
   "cell_type": "markdown",
   "metadata": {},
   "source": [
    "# Ch. 7: Hypothesis and Inference\n",
    "Notes on \"Data Science from Scratch\" by Joel Grus"
   ]
  },
  {
   "cell_type": "markdown",
   "metadata": {
    "collapsed": true
   },
   "source": [
    "## Statistical Hypothesis Testing\n",
    "Example hypotheses:\n",
    "- this coin is fair\n",
    "- data scientists prefer Python to R\n",
    "- people are more likely to navigate away from the page without ever reading the content if we pop up an irritation interstitial advertisement with a tiny, hard-to-find close button\n",
    "\n",
    "Let's define:\n",
    "- $H_0$: *null hypothesis*\n",
    "- $H_1$: alternative hypothesis that we'll compare $H_0$ with\n",
    "\n",
    "We'll use statistics to decide whether we can reject $H_0$ or not."
   ]
  },
  {
   "cell_type": "code",
   "execution_count": null,
   "metadata": {
    "collapsed": true
   },
   "outputs": [],
   "source": [
    "### Example: Flipping a Coin\n"
   ]
  }
 ],
 "metadata": {
  "kernelspec": {
   "display_name": "Python 2",
   "language": "python",
   "name": "python2"
  },
  "language_info": {
   "codemirror_mode": {
    "name": "ipython",
    "version": 2
   },
   "file_extension": ".py",
   "mimetype": "text/x-python",
   "name": "python",
   "nbconvert_exporter": "python",
   "pygments_lexer": "ipython2",
   "version": "2.7.11"
  }
 },
 "nbformat": 4,
 "nbformat_minor": 0
}
